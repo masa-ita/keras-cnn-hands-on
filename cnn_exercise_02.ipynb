{
<<<<<<< HEAD
 "cells": [
  {
   "cell_type": "markdown",
   "metadata": {
    "colab_type": "text",
    "id": "8Lx0-D-yMkhL"
   },
   "source": [
    "# Kerasを用いた画像分類入門（２）"
   ]
  },
  {
   "cell_type": "markdown",
   "metadata": {
    "colab_type": "text",
    "id": "33A7rPAMTyy4"
   },
   "source": [
    "##  過学習の抑制"
   ]
  },
  {
   "cell_type": "markdown",
   "metadata": {
    "colab_type": "text",
    "id": "TMBFBPcrMkhO"
   },
   "source": [
    "## Google Colab用の設定"
   ]
  },
  {
   "cell_type": "markdown",
   "metadata": {
    "colab_type": "text",
    "id": "4fhUwifgMkhR"
   },
   "source": [
    "Google Colaboratory で実行する場合には下記のセルを実行してください。"
   ]
  },
  {
   "cell_type": "code",
   "execution_count": null,
   "metadata": {
    "colab": {
     "base_uri": "https://localhost:8080/",
     "height": 133
    },
    "colab_type": "code",
    "executionInfo": {
     "elapsed": 25918,
     "status": "ok",
     "timestamp": 1550642268356,
     "user": {
      "displayName": "Masatoshi Itagaki",
      "photoUrl": "https://lh3.googleusercontent.com/-SGDpXt5ReZs/AAAAAAAAAAI/AAAAAAAAAIE/63os4VeHmA8/s64/photo.jpg",
      "userId": "04462290006021813429"
     },
     "user_tz": -540
    },
    "id": "-EoFxRtmMkhU",
    "outputId": "66430136-3c63-40e6-8666-3ae0c5ec9b74"
   },
   "outputs": [],
   "source": [
    "from google.colab import drive\n",
    "drive.mount('/content/gdrive')"
   ]
  },
  {
   "cell_type": "code",
   "execution_count": null,
   "metadata": {
    "colab": {
     "base_uri": "https://localhost:8080/",
     "height": 19318
    },
    "colab_type": "code",
    "executionInfo": {
     "elapsed": 11178,
     "status": "ok",
     "timestamp": 1550642282051,
     "user": {
      "displayName": "Masatoshi Itagaki",
      "photoUrl": "https://lh3.googleusercontent.com/-SGDpXt5ReZs/AAAAAAAAAAI/AAAAAAAAAIE/63os4VeHmA8/s64/photo.jpg",
      "userId": "04462290006021813429"
     },
     "user_tz": -540
    },
    "id": "3UTLvK2uMkhb",
    "outputId": "a5f87800-2721-46eb-9bc8-15e40662bcd5"
   },
   "outputs": [],
   "source": [
    "!unzip /content/gdrive/My\\ Drive/GD_share01/noodles.zip -d /content"
   ]
  },
  {
   "cell_type": "markdown",
   "metadata": {
    "colab_type": "text",
    "id": "tyJF4fK6Mkhg"
   },
   "source": [
    "## ライブラリのインポート"
   ]
  },
  {
   "cell_type": "code",
   "execution_count": null,
   "metadata": {
    "colab": {},
    "colab_type": "code",
    "id": "6W-ZG_SrMkhi"
   },
   "outputs": [],
   "source": [
    "import tensorflow.keras as keras"
   ]
  },
  {
   "cell_type": "markdown",
   "metadata": {
    "colab_type": "text",
    "id": "3PMIUnSRMkho"
   },
   "source": [
    "## 画像データの準備"
   ]
  },
  {
   "cell_type": "markdown",
   "metadata": {
    "colab_type": "text",
    "id": "QkMMA05DMkhu"
   },
   "source": [
    " 解凍した教師画像からデータを読み込むImageDataGeneratorを作成します。"
   ]
  },
  {
   "cell_type": "code",
   "execution_count": null,
   "metadata": {
    "colab": {
     "base_uri": "https://localhost:8080/",
     "height": 75
    },
    "colab_type": "code",
    "executionInfo": {
     "elapsed": 941,
     "status": "ok",
     "timestamp": 1550642295112,
     "user": {
      "displayName": "Masatoshi Itagaki",
      "photoUrl": "https://lh3.googleusercontent.com/-SGDpXt5ReZs/AAAAAAAAAAI/AAAAAAAAAIE/63os4VeHmA8/s64/photo.jpg",
      "userId": "04462290006021813429"
     },
     "user_tz": -540
    },
    "id": "xNzsFKSzMkhy",
    "outputId": "93ffcbfb-105f-4495-8970-961fb7667498"
   },
   "outputs": [],
   "source": [
    "train_dir = '/content/noodles/train/'\n",
    "validation_dir = '/content/noodles/validation/'\n",
    "test_dir = '/content/noodles/test/'\n",
    "image_size = (128, 128)\n",
    "batch_size = 32\n",
    "steps_per_epoch = 300 // batch_size\n",
    "validation_steps = 100 // batch_size\n",
    "test_steps = 100 // batch_size\n",
    "\n",
    "image_data_generator = keras.preprocessing.image.ImageDataGenerator(rescale=1/255.0)\n",
    "\n",
    "train_generator = image_data_generator.flow_from_directory(train_dir,\n",
    "                                                           target_size=image_size, \n",
    "                                                           batch_size=batch_size)\n",
    "validation_generator = image_data_generator.flow_from_directory(validation_dir,\n",
    "                                                                target_size=image_size, \n",
    "                                                                batch_size=batch_size)\n",
    "test_generator = image_data_generator.flow_from_directory(test_dir,\n",
    "                                                                target_size=image_size, \n",
    "                                                                batch_size=batch_size)"
   ]
  },
  {
   "cell_type": "markdown",
   "metadata": {
    "colab_type": "text",
    "id": "JrnVSkAgUFZW"
   },
   "source": [
    "## ニューラルネットワークの過学習とは？"
   ]
  },
  {
   "cell_type": "markdown",
   "metadata": {
    "colab_type": "text",
    "id": "oKfq7VNUMkh2"
   },
   "source": [
    "###  モデルの構築"
   ]
  },
  {
   "cell_type": "markdown",
   "metadata": {
    "colab_type": "text",
    "id": "BLWy-aTTMkh3"
   },
   "source": [
    "Conv2DとMaxPooling2Dを用いた画像の２値分類のための畳み込みニューラルネットワークを構成します。"
   ]
  },
  {
   "cell_type": "code",
   "execution_count": null,
   "metadata": {
    "colab": {
     "base_uri": "https://localhost:8080/",
     "height": 95
    },
    "colab_type": "code",
    "executionInfo": {
     "elapsed": 706,
     "status": "ok",
     "timestamp": 1550642308532,
     "user": {
      "displayName": "Masatoshi Itagaki",
      "photoUrl": "https://lh3.googleusercontent.com/-SGDpXt5ReZs/AAAAAAAAAAI/AAAAAAAAAIE/63os4VeHmA8/s64/photo.jpg",
      "userId": "04462290006021813429"
     },
     "user_tz": -540
    },
    "id": "FQKBcqx9Mkh7",
    "outputId": "dc25468d-bd3e-4214-c958-f124e5d8743c"
   },
   "outputs": [],
   "source": [
    "model = keras.models.Sequential()\n",
    "\n",
    "model.add(keras.layers.Conv2D(32, (3, 3), strides=(1, 1), activation='relu', input_shape=(128, 128, 3)))\n",
    "model.add(keras.layers.MaxPooling2D((2, 2)))\n",
    "model.add(keras.layers.Conv2D(64, (3, 3), strides=(1, 1), activation='relu'))\n",
    "model.add(keras.layers.MaxPooling2D((2, 2)))\n",
    "model.add(keras.layers.Conv2D(128, (3, 3), strides=(1, 1), activation='relu'))\n",
    "model.add(keras.layers.MaxPooling2D((2, 2)))\n",
    "model.add(keras.layers.Flatten())\n",
    "model.add(keras.layers.Dense(128, activation='relu'))\n",
    "model.add(keras.layers.Dense(2, activation='softmax'))"
   ]
  },
  {
   "cell_type": "markdown",
   "metadata": {
    "colab_type": "text",
    "id": "o_e3o5t1MkiB"
   },
   "source": [
    "### モデル構造の表示"
   ]
  },
  {
   "cell_type": "code",
   "execution_count": null,
   "metadata": {
    "colab": {
     "base_uri": "https://localhost:8080/",
     "height": 495
    },
    "colab_type": "code",
    "executionInfo": {
     "elapsed": 598,
     "status": "ok",
     "timestamp": 1550642314614,
     "user": {
      "displayName": "Masatoshi Itagaki",
      "photoUrl": "https://lh3.googleusercontent.com/-SGDpXt5ReZs/AAAAAAAAAAI/AAAAAAAAAIE/63os4VeHmA8/s64/photo.jpg",
      "userId": "04462290006021813429"
     },
     "user_tz": -540
    },
    "id": "U1BB67g4MkiE",
    "outputId": "99485e98-06de-44d0-82c9-a01e3884fd4a",
    "scrolled": true
   },
   "outputs": [],
   "source": [
    "model.summary()"
   ]
  },
  {
   "cell_type": "markdown",
   "metadata": {
    "colab_type": "text",
    "id": "VFPse_SxMkiH"
   },
   "source": [
    "### モデルのコンパイル"
   ]
  },
  {
   "cell_type": "markdown",
   "metadata": {
    "colab_type": "text",
    "id": "hwB2WqYkMkiJ"
   },
   "source": [
    "モデルをコンパイルします。"
   ]
  },
  {
   "cell_type": "code",
   "execution_count": null,
   "metadata": {
    "colab": {},
    "colab_type": "code",
    "id": "BixHmvHDMkiM"
   },
   "outputs": [],
   "source": [
    "model.compile(loss='categorical_crossentropy', \n",
    "              optimizer='adam',\n",
    "              metrics=['acc'])"
   ]
  },
  {
   "cell_type": "markdown",
   "metadata": {
    "colab_type": "text",
    "id": "-DQWQh12MkiW"
   },
   "source": [
    "### モデルの訓練"
   ]
  },
  {
   "cell_type": "markdown",
   "metadata": {
    "colab_type": "text",
    "id": "i78Q9x4yMkiY"
   },
   "source": [
    "ここでは20エポック、モデルの訓練を行います。"
   ]
  },
  {
   "cell_type": "code",
   "execution_count": null,
   "metadata": {
    "colab": {
     "base_uri": "https://localhost:8080/",
     "height": 1278
    },
    "colab_type": "code",
    "executionInfo": {
     "elapsed": 637890,
     "status": "ok",
     "timestamp": 1550642984683,
     "user": {
      "displayName": "Masatoshi Itagaki",
      "photoUrl": "https://lh3.googleusercontent.com/-SGDpXt5ReZs/AAAAAAAAAAI/AAAAAAAAAIE/63os4VeHmA8/s64/photo.jpg",
      "userId": "04462290006021813429"
     },
     "user_tz": -540
    },
    "id": "CY4SvCB0MkiZ",
    "outputId": "1f6c9c94-f151-478b-b31e-0c41f7dfeacd"
   },
   "outputs": [],
   "source": [
    "history = model.fit_generator(train_generator,\n",
    "                             epochs=20,\n",
    "                             steps_per_epoch=steps_per_epoch,\n",
    "                             validation_data=validation_generator,\n",
    "                             validation_steps=validation_steps)"
   ]
  },
  {
   "cell_type": "markdown",
   "metadata": {
    "colab_type": "text",
    "id": "xNJA9kA0Mkid"
   },
   "source": [
    "### 学習経過のグラフ化"
   ]
  },
  {
   "cell_type": "markdown",
   "metadata": {
    "colab_type": "text",
    "id": "_dgMQB5cMkie"
   },
   "source": [
    "下記のプログラムで、エポックごとの損失と正解率をグラフ化できます。  \n",
    "グラフから何が読み取れるでしょうか？"
   ]
  },
  {
   "cell_type": "code",
   "execution_count": null,
   "metadata": {
    "colab": {
     "base_uri": "https://localhost:8080/",
     "height": 514
    },
    "colab_type": "code",
    "executionInfo": {
     "elapsed": 1491,
     "status": "ok",
     "timestamp": 1550642994219,
     "user": {
      "displayName": "Masatoshi Itagaki",
      "photoUrl": "https://lh3.googleusercontent.com/-SGDpXt5ReZs/AAAAAAAAAAI/AAAAAAAAAIE/63os4VeHmA8/s64/photo.jpg",
      "userId": "04462290006021813429"
     },
     "user_tz": -540
    },
    "id": "FxsAUbyhMkif",
    "outputId": "245f9e6e-813d-4f2f-cfca-e5c96d3cc8bb",
    "scrolled": false
   },
   "outputs": [],
   "source": [
    "import matplotlib.pyplot as plt\n",
    "%matplotlib inline\n",
    "\n",
    "acc = history.history['acc']\n",
    "val_acc = history.history['val_acc']\n",
    "loss = history.history['loss']\n",
    "val_loss = history.history['val_loss']\n",
    "\n",
    "epochs = range(len(acc))\n",
    "\n",
    "plt.plot(epochs, acc, label='Train Accuracy')\n",
    "plt.plot(epochs, val_acc, label='Validation Accuracy')\n",
    "plt.legend()\n",
    "plt.show()\n",
    "\n",
    "plt.plot(epochs, loss, label='Train Loss')\n",
    "plt.plot(epochs, val_loss, label='Validation Loss')\n",
    "plt.legend()\n",
    "plt.show()\n"
   ]
  },
  {
   "cell_type": "markdown",
   "metadata": {
    "colab_type": "text",
    "id": "MjL8gPXEMkii"
   },
   "source": [
    "### モデルの評価"
   ]
  },
  {
   "cell_type": "code",
   "execution_count": null,
   "metadata": {
    "colab": {
     "base_uri": "https://localhost:8080/",
     "height": 36
    },
    "colab_type": "code",
    "executionInfo": {
     "elapsed": 9731,
     "status": "ok",
     "timestamp": 1550643014989,
     "user": {
      "displayName": "Masatoshi Itagaki",
      "photoUrl": "https://lh3.googleusercontent.com/-SGDpXt5ReZs/AAAAAAAAAAI/AAAAAAAAAIE/63os4VeHmA8/s64/photo.jpg",
      "userId": "04462290006021813429"
     },
     "user_tz": -540
    },
    "id": "-UeYu0XvMkik",
    "outputId": "402e3466-4f5b-400e-d9ed-62e4ed20c8ea"
   },
   "outputs": [],
   "source": [
    "evaluation = model.evaluate_generator(test_generator, steps=test_steps)\n",
    "print(evaluation)"
   ]
  },
  {
   "cell_type": "markdown",
   "metadata": {
    "colab_type": "text",
    "id": "crbeJRPURR4p"
   },
   "source": [
    "## ドロップアウトの導入"
   ]
  },
  {
   "cell_type": "markdown",
   "metadata": {
    "colab_type": "text",
    "id": "3oWfrzIfUYbw"
   },
   "source": [
    "### モデルの修正"
   ]
  },
  {
   "cell_type": "markdown",
   "metadata": {
    "colab_type": "text",
    "id": "3ccwOnHdRj1h"
   },
   "source": [
    "最初のモデルにDropout層を挿入してみましょう。"
   ]
  },
  {
   "cell_type": "code",
   "execution_count": null,
   "metadata": {
    "colab": {
     "base_uri": "https://localhost:8080/",
     "height": 95
    },
    "colab_type": "code",
    "executionInfo": {
     "elapsed": 623,
     "status": "ok",
     "timestamp": 1550643056984,
     "user": {
      "displayName": "Masatoshi Itagaki",
      "photoUrl": "https://lh3.googleusercontent.com/-SGDpXt5ReZs/AAAAAAAAAAI/AAAAAAAAAIE/63os4VeHmA8/s64/photo.jpg",
      "userId": "04462290006021813429"
     },
     "user_tz": -540
    },
    "id": "w0MBhh0jRs9S",
    "outputId": "0e1a86b5-6a8b-4986-c00f-484bfd0dd811"
   },
   "outputs": [],
   "source": [
    "model = keras.models.Sequential()\n",
    "\n",
    "model.add(keras.layers.Conv2D(32, (3, 3), strides=(1, 1), activation='relu', input_shape=(128, 128, 3)))\n",
    "model.add(keras.layers.MaxPooling2D((2, 2)))\n",
    "model.add(keras.layers.Conv2D(64, (3, 3), strides=(1, 1), activation='relu'))\n",
    "model.add(keras.layers.MaxPooling2D((2, 2)))\n",
    "model.add(keras.layers.Conv2D(128, (3, 3), strides=(1, 1), activation='relu'))\n",
    "model.add(keras.layers.MaxPooling2D((2, 2)))\n",
    "model.add(keras.layers.Flatten())\n",
    "model.add(keras.layers.Dropout(0.5))\n",
    "model.add(keras.layers.Dense(128, activation='relu'))\n",
    "model.add(keras.layers.Dropout(0.5))\n",
    "model.add(keras.layers.Dense(2, activation='softmax'))"
   ]
  },
  {
   "cell_type": "markdown",
   "metadata": {
    "colab_type": "text",
    "id": "wJ3_ETEOSJPw"
   },
   "source": [
    "### モデル構造の表示"
   ]
  },
  {
   "cell_type": "code",
   "execution_count": null,
   "metadata": {
    "colab": {
     "base_uri": "https://localhost:8080/",
     "height": 571
    },
    "colab_type": "code",
    "executionInfo": {
     "elapsed": 720,
     "status": "ok",
     "timestamp": 1550643073506,
     "user": {
      "displayName": "Masatoshi Itagaki",
      "photoUrl": "https://lh3.googleusercontent.com/-SGDpXt5ReZs/AAAAAAAAAAI/AAAAAAAAAIE/63os4VeHmA8/s64/photo.jpg",
      "userId": "04462290006021813429"
     },
     "user_tz": -540
    },
    "id": "xfgE2MLpSJPz",
    "outputId": "3ac3c958-4835-49ea-e235-d049244d4d10",
    "scrolled": true
   },
   "outputs": [],
   "source": [
    "model.summary()"
   ]
  },
  {
   "cell_type": "markdown",
   "metadata": {
    "colab_type": "text",
    "id": "pKVB4-ePSJP2"
   },
   "source": [
    "### モデルのコンパイル"
   ]
  },
  {
   "cell_type": "markdown",
   "metadata": {
    "colab_type": "text",
    "id": "jhFt8faoSJP4"
   },
   "source": [
    "先ほどのモデルと同じ様にモデルをコンパイルします。"
   ]
  },
  {
   "cell_type": "code",
   "execution_count": null,
   "metadata": {
    "colab": {},
    "colab_type": "code",
    "id": "IQ011zNtSJP8"
   },
   "outputs": [],
   "source": [
    "model.compile(loss='categorical_crossentropy', \n",
    "              optimizer='adam',\n",
    "              metrics=['acc'])"
   ]
  },
  {
   "cell_type": "markdown",
   "metadata": {
    "colab_type": "text",
    "id": "UeoiwGnsSJQB"
   },
   "source": [
    "### モデルの訓練"
   ]
  },
  {
   "cell_type": "markdown",
   "metadata": {
    "colab_type": "text",
    "id": "Du5ou_KVSJQC"
   },
   "source": [
    "25エポック、モデルの訓練を行います。"
   ]
  },
  {
   "cell_type": "code",
   "execution_count": null,
   "metadata": {
    "colab": {
     "base_uri": "https://localhost:8080/",
     "height": 1487
    },
    "colab_type": "code",
    "executionInfo": {
     "elapsed": 786360,
     "status": "ok",
     "timestamp": 1550643870486,
     "user": {
      "displayName": "Masatoshi Itagaki",
      "photoUrl": "https://lh3.googleusercontent.com/-SGDpXt5ReZs/AAAAAAAAAAI/AAAAAAAAAIE/63os4VeHmA8/s64/photo.jpg",
      "userId": "04462290006021813429"
     },
     "user_tz": -540
    },
    "id": "StnawXTXSJQC",
    "outputId": "76ff6f0e-fb0f-4be0-e411-e9d8759a4c7c"
   },
   "outputs": [],
   "source": [
    "history = model.fit_generator(train_generator,\n",
    "                              epochs=25,\n",
    "                              steps_per_epoch=steps_per_epoch,\n",
    "                              validation_data=validation_generator,\n",
    "                              validation_steps=validation_steps)"
   ]
  },
  {
   "cell_type": "markdown",
   "metadata": {
    "colab_type": "text",
    "id": "2klwDWcdSJQG"
   },
   "source": [
    "### 学習経過のグラフ化"
   ]
  },
  {
   "cell_type": "markdown",
   "metadata": {
    "colab_type": "text",
    "id": "JkOqKCh5SJQG"
   },
   "source": [
    "エポックごとの損失と正解率をグラフ化します。\n",
    "先程のグラフとどの様に違うでしょうか？"
   ]
  },
  {
   "cell_type": "code",
   "execution_count": null,
   "metadata": {
    "colab": {
     "base_uri": "https://localhost:8080/",
     "height": 515
    },
    "colab_type": "code",
    "executionInfo": {
     "elapsed": 1051,
     "status": "ok",
     "timestamp": 1550643877092,
     "user": {
      "displayName": "Masatoshi Itagaki",
      "photoUrl": "https://lh3.googleusercontent.com/-SGDpXt5ReZs/AAAAAAAAAAI/AAAAAAAAAIE/63os4VeHmA8/s64/photo.jpg",
      "userId": "04462290006021813429"
     },
     "user_tz": -540
    },
    "id": "YxCHjxRaSJQI",
    "outputId": "db40700a-03f1-4107-94fd-63082a579878",
    "scrolled": false
   },
   "outputs": [],
   "source": [
    "import matplotlib.pyplot as plt\n",
    "%matplotlib inline\n",
    "\n",
    "acc = history.history['acc']\n",
    "val_acc = history.history['val_acc']\n",
    "loss = history.history['loss']\n",
    "val_loss = history.history['val_loss']\n",
    "\n",
    "epochs = range(len(acc))\n",
    "\n",
    "plt.plot(epochs, acc, label='Train Accuracy')\n",
    "plt.plot(epochs, val_acc, label='Validation Accuracy')\n",
    "plt.legend()\n",
    "plt.show()\n",
    "\n",
    "plt.plot(epochs, loss, label='Train Loss')\n",
    "plt.plot(epochs, val_loss, label='Validation Loss')\n",
    "plt.legend()\n",
    "plt.show()"
   ]
  },
  {
   "cell_type": "markdown",
   "metadata": {
    "colab_type": "text",
    "id": "9KCMZiz9qRv3"
   },
   "source": [
    "## バッチ正規化の導入"
   ]
  },
  {
   "cell_type": "markdown",
   "metadata": {
    "colab_type": "text",
    "id": "Iz8KxQmOqRv4"
   },
   "source": [
    "### モデルの修正"
   ]
  },
  {
   "cell_type": "markdown",
   "metadata": {
    "colab_type": "text",
    "id": "6NuyQk87qRv5"
   },
   "source": [
    "最初のモデルにBatchNormalization層を挿入してみましょう。"
   ]
  },
  {
   "cell_type": "code",
   "execution_count": null,
   "metadata": {
    "colab": {},
    "colab_type": "code",
    "id": "LafGT9xlqRv6"
   },
   "outputs": [],
   "source": [
    "model = keras.models.Sequential()\n",
    "\n",
    "model.add(keras.layers.Conv2D(32, (3, 3), strides=(1, 1), input_shape=(128, 128, 3)))\n",
    "model.add(keras.layers.MaxPooling2D((2, 2)))\n",
    "model.add(keras.layers.BatchNormalization())\n",
    "model.add(keras.layers.Activation('relu'))\n",
    "model.add(keras.layers.Conv2D(64, (3, 3), strides=(1, 1)))\n",
    "model.add(keras.layers.MaxPooling2D((2, 2)))\n",
    "model.add(keras.layers.BatchNormalization())\n",
    "model.add(keras.layers.Activation('relu'))\n",
    "model.add(keras.layers.Conv2D(128, (3, 3), strides=(1, 1)))\n",
    "model.add(keras.layers.MaxPooling2D((2, 2)))\n",
    "model.add(keras.layers.BatchNormalization())\n",
    "model.add(keras.layers.Activation('relu'))\n",
    "model.add(keras.layers.Flatten())\n",
    "model.add(keras.layers.Dense(128))\n",
    "model.add(keras.layers.BatchNormalization())\n",
    "model.add(keras.layers.Activation('relu'))\n",
    "model.add(keras.layers.Dense(2, activation='softmax'))"
   ]
  },
  {
   "cell_type": "markdown",
   "metadata": {
    "colab_type": "text",
    "id": "pe4zfkPyqRv-"
   },
   "source": [
    "### モデル構造の表示"
   ]
  },
  {
   "cell_type": "code",
   "execution_count": null,
   "metadata": {
    "colab": {
     "base_uri": "https://localhost:8080/",
     "height": 800
    },
    "colab_type": "code",
    "executionInfo": {
     "elapsed": 665,
     "status": "ok",
     "timestamp": 1550643894736,
     "user": {
      "displayName": "Masatoshi Itagaki",
      "photoUrl": "https://lh3.googleusercontent.com/-SGDpXt5ReZs/AAAAAAAAAAI/AAAAAAAAAIE/63os4VeHmA8/s64/photo.jpg",
      "userId": "04462290006021813429"
     },
     "user_tz": -540
    },
    "id": "9RUU1VoLqRwB",
    "outputId": "c36f146a-a8a4-4111-93a1-6fb5ebecc36a",
    "scrolled": true
   },
   "outputs": [],
   "source": [
    "model.summary()"
   ]
  },
  {
   "cell_type": "markdown",
   "metadata": {
    "colab_type": "text",
    "id": "E6tPz5ZmqRwG"
   },
   "source": [
    "### モデルのコンパイル"
   ]
  },
  {
   "cell_type": "markdown",
   "metadata": {
    "colab_type": "text",
    "id": "XKv4VwWHqRwJ"
   },
   "source": [
    "先ほどのモデルと同じ様にモデルをコンパイルします。"
   ]
  },
  {
   "cell_type": "code",
   "execution_count": null,
   "metadata": {
    "colab": {},
    "colab_type": "code",
    "id": "kkz6YBxTqRwL"
   },
   "outputs": [],
   "source": [
    "model.compile(loss='categorical_crossentropy', \n",
    "              optimizer='adam',\n",
    "              metrics=['acc'])"
   ]
  },
  {
   "cell_type": "markdown",
   "metadata": {
    "colab_type": "text",
    "id": "SfaCQYbWqRwQ"
   },
   "source": [
    "### モデルの訓練"
   ]
  },
  {
   "cell_type": "markdown",
   "metadata": {
    "colab_type": "text",
    "id": "0z2a2tF-qRwU"
   },
   "source": [
    "30エポック、モデルの訓練を行います。"
   ]
  },
  {
   "cell_type": "code",
   "execution_count": null,
   "metadata": {
    "colab": {
     "base_uri": "https://localhost:8080/",
     "height": 1774
    },
    "colab_type": "code",
    "executionInfo": {
     "elapsed": 948285,
     "status": "ok",
     "timestamp": 1550644857796,
     "user": {
      "displayName": "Masatoshi Itagaki",
      "photoUrl": "https://lh3.googleusercontent.com/-SGDpXt5ReZs/AAAAAAAAAAI/AAAAAAAAAIE/63os4VeHmA8/s64/photo.jpg",
      "userId": "04462290006021813429"
     },
     "user_tz": -540
    },
    "id": "JPKMhYIaqRwW",
    "outputId": "6f9c608a-6e77-41ad-d1b6-619a6a73e7b8"
   },
   "outputs": [],
   "source": [
    "history = model.fit_generator(train_generator,\n",
    "                              epochs=30,\n",
    "                              steps_per_epoch=steps_per_epoch,\n",
    "                              validation_data=validation_generator,\n",
    "                              validation_steps=validation_steps)"
   ]
  },
  {
   "cell_type": "markdown",
   "metadata": {
    "colab_type": "text",
    "id": "R0Q31NEeqRwe"
   },
   "source": [
    "### 学習経過のグラフ化"
   ]
  },
  {
   "cell_type": "markdown",
   "metadata": {
    "colab_type": "text",
    "id": "hO4SW6QSqRwf"
   },
   "source": [
    "エポックごとの損失と正解率をグラフ化します。\n",
    "先程のグラフとどの様に違うでしょうか？"
   ]
  },
  {
   "cell_type": "code",
   "execution_count": null,
   "metadata": {
    "colab": {
     "base_uri": "https://localhost:8080/",
     "height": 514
    },
    "colab_type": "code",
    "executionInfo": {
     "elapsed": 1257,
     "status": "ok",
     "timestamp": 1550644863979,
     "user": {
      "displayName": "Masatoshi Itagaki",
      "photoUrl": "https://lh3.googleusercontent.com/-SGDpXt5ReZs/AAAAAAAAAAI/AAAAAAAAAIE/63os4VeHmA8/s64/photo.jpg",
      "userId": "04462290006021813429"
     },
     "user_tz": -540
    },
    "id": "v4BeKjFOqRwg",
    "outputId": "88846f40-2f68-4c7d-e36c-8c62706102a2",
    "scrolled": false
   },
   "outputs": [],
   "source": [
    "import matplotlib.pyplot as plt\n",
    "%matplotlib inline\n",
    "\n",
    "acc = history.history['acc']\n",
    "val_acc = history.history['val_acc']\n",
    "loss = history.history['loss']\n",
    "val_loss = history.history['val_loss']\n",
    "\n",
    "epochs = range(len(acc))\n",
    "\n",
    "plt.plot(epochs, acc, label='Train Accuracy')\n",
    "plt.plot(epochs, val_acc, label='Validation Accuracy')\n",
    "plt.legend()\n",
    "plt.show()\n",
    "\n",
    "plt.plot(epochs, loss, label='Train Loss')\n",
    "plt.plot(epochs, val_loss, label='Validation Loss')\n",
    "plt.legend()\n",
    "plt.show()"
   ]
  },
  {
   "cell_type": "markdown",
   "metadata": {
    "colab_type": "text",
    "id": "Me8-RtGcUlP0"
   },
   "source": [
    "## パラメータ正則化の導入"
   ]
  },
  {
   "cell_type": "markdown",
   "metadata": {
    "colab_type": "text",
    "id": "U9eQk2BcU0Aj"
   },
   "source": [
    "### モデルの修正"
   ]
  },
  {
   "cell_type": "markdown",
   "metadata": {
    "colab_type": "text",
    "id": "ViNrWk-EU0Ak"
   },
   "source": [
    "最初のモデルにパラメータ正則化の導入をしてみましょう。"
   ]
  },
  {
   "cell_type": "code",
   "execution_count": null,
   "metadata": {
    "colab": {},
    "colab_type": "code",
    "id": "pt1F-L_WU0Am"
   },
   "outputs": [],
   "source": [
    "model = keras.models.Sequential()\n",
    "\n",
    "model.add(keras.layers.Conv2D(32, (3, 3), \n",
    "                    strides=(1, 1), \n",
    "                    kernel_regularizer=keras.regularizers.l1_l2(0.0005, 0.001),\n",
    "                    activation='relu', \n",
    "                    input_shape=(128, 128, 3)))\n",
    "model.add(keras.layers.MaxPooling2D((2, 2)))\n",
    "model.add(keras.layers.Conv2D(64, (3, 3), \n",
    "                    strides=(1, 1), \n",
    "                    kernel_regularizer=keras.regularizers.l1_l2(0.0005, 0.001),\n",
    "                    activation='relu'))\n",
    "model.add(keras.layers.MaxPooling2D((2, 2)))\n",
    "model.add(keras.layers.Conv2D(128, (3, 3), \n",
    "                    strides=(1, 1), \n",
    "                    kernel_regularizer=keras.regularizers.l1_l2(0.0005, 0.001),\n",
    "                    activation='relu'))\n",
    "model.add(keras.layers.MaxPooling2D((2, 2)))\n",
    "model.add(keras.layers.Flatten())\n",
    "model.add(keras.layers.Dense(128, \n",
    "                    kernel_regularizer=keras.regularizers.l1_l2(0.0005, 0.001),\n",
    "                    activation='relu'))\n",
    "model.add(keras.layers.Dense(2, activation='softmax'))"
   ]
  },
  {
   "cell_type": "markdown",
   "metadata": {
    "colab_type": "text",
    "id": "6Le9hYB3U0Aq"
   },
   "source": [
    "### モデル構造の表示"
   ]
  },
  {
   "cell_type": "code",
   "execution_count": null,
   "metadata": {
    "colab": {
     "base_uri": "https://localhost:8080/",
     "height": 495
    },
    "colab_type": "code",
    "executionInfo": {
     "elapsed": 681,
     "status": "ok",
     "timestamp": 1550644885243,
     "user": {
      "displayName": "Masatoshi Itagaki",
      "photoUrl": "https://lh3.googleusercontent.com/-SGDpXt5ReZs/AAAAAAAAAAI/AAAAAAAAAIE/63os4VeHmA8/s64/photo.jpg",
      "userId": "04462290006021813429"
     },
     "user_tz": -540
    },
    "id": "bmRjOR8NU0Aq",
    "outputId": "454c163c-7cc4-4371-a32d-97a8223f2074",
    "scrolled": true
   },
   "outputs": [],
   "source": [
    "model.summary()"
   ]
  },
  {
   "cell_type": "markdown",
   "metadata": {
    "colab_type": "text",
    "id": "ecvTMSTmU0Au"
   },
   "source": [
    "### モデルのコンパイル"
   ]
  },
  {
   "cell_type": "markdown",
   "metadata": {
    "colab_type": "text",
    "id": "zslfGAQHU0Ax"
   },
   "source": [
    "先ほどのモデルと同じ様にモデルをコンパイルします。"
   ]
  },
  {
   "cell_type": "code",
   "execution_count": null,
   "metadata": {
    "colab": {},
    "colab_type": "code",
    "id": "Vl9O3SmSU0Ay"
   },
   "outputs": [],
   "source": [
    "model.compile(loss='categorical_crossentropy', \n",
    "              optimizer='adam',\n",
    "              metrics=['acc'])"
   ]
  },
  {
   "cell_type": "markdown",
   "metadata": {
    "colab_type": "text",
    "id": "Sk_N9r8bU0A1"
   },
   "source": [
    "### モデルの訓練"
   ]
  },
  {
   "cell_type": "markdown",
   "metadata": {
    "colab_type": "text",
    "id": "yL-txeEOU0A2"
   },
   "source": [
    "30エポック、モデルの訓練を行います。"
   ]
  },
  {
   "cell_type": "code",
   "execution_count": null,
   "metadata": {
    "colab": {
     "base_uri": "https://localhost:8080/",
     "height": 1735
    },
    "colab_type": "code",
    "executionInfo": {
     "elapsed": 946799,
     "status": "ok",
     "timestamp": 1550645866160,
     "user": {
      "displayName": "Masatoshi Itagaki",
      "photoUrl": "https://lh3.googleusercontent.com/-SGDpXt5ReZs/AAAAAAAAAAI/AAAAAAAAAIE/63os4VeHmA8/s64/photo.jpg",
      "userId": "04462290006021813429"
     },
     "user_tz": -540
    },
    "id": "ot7LoiZlU0A4",
    "outputId": "67c623f6-9d71-4ed8-99b5-5acc84f0c128"
   },
   "outputs": [],
   "source": [
    "history = model.fit_generator(train_generator,\n",
    "                              epochs=30,\n",
    "                              steps_per_epoch=steps_per_epoch,\n",
    "                              validation_data=validation_generator,\n",
    "                              validation_steps=validation_steps)"
   ]
  },
  {
   "cell_type": "markdown",
   "metadata": {
    "colab_type": "text",
    "id": "f4TyNYQUU0A-"
   },
   "source": [
    "### 学習経過のグラフ化"
   ]
  },
  {
   "cell_type": "markdown",
   "metadata": {
    "colab_type": "text",
    "id": "Ec9mEbE_U0BA"
   },
   "source": [
    "エポックごとの損失と正解率をグラフ化します。\n",
    "先程のグラフとどの様に違うでしょうか？"
   ]
  },
  {
   "cell_type": "code",
   "execution_count": null,
   "metadata": {
    "colab": {
     "base_uri": "https://localhost:8080/",
     "height": 514
    },
    "colab_type": "code",
    "executionInfo": {
     "elapsed": 1342,
     "status": "ok",
     "timestamp": 1550645985940,
     "user": {
      "displayName": "Masatoshi Itagaki",
      "photoUrl": "https://lh3.googleusercontent.com/-SGDpXt5ReZs/AAAAAAAAAAI/AAAAAAAAAIE/63os4VeHmA8/s64/photo.jpg",
      "userId": "04462290006021813429"
     },
     "user_tz": -540
    },
    "id": "O7LBzFGdU0BB",
    "outputId": "9fa5c3dc-431d-4a26-b952-b0106b2bf6f6",
    "scrolled": false
   },
   "outputs": [],
   "source": [
    "import matplotlib.pyplot as plt\n",
    "%matplotlib inline\n",
    "\n",
    "acc = history.history['acc']\n",
    "val_acc = history.history['val_acc']\n",
    "loss = history.history['loss']\n",
    "val_loss = history.history['val_loss']\n",
    "\n",
    "epochs = range(len(acc))\n",
    "\n",
    "plt.plot(epochs, acc, label='Train Accuracy')\n",
    "plt.plot(epochs, val_acc, label='Validation Accuracy')\n",
    "plt.legend()\n",
    "plt.show()\n",
    "\n",
    "plt.plot(epochs, loss, label='Train Loss')\n",
    "plt.plot(epochs, val_loss, label='Validation Loss')\n",
    "plt.legend()\n",
    "plt.show()"
   ]
  },
  {
   "cell_type": "markdown",
   "metadata": {
    "colab_type": "text",
    "id": "G1HpYmCVMki3"
   },
   "source": [
    "## モデルによる予測"
   ]
  },
  {
   "cell_type": "markdown",
   "metadata": {
    "colab_type": "text",
    "id": "ewrlxxAZMki4"
   },
   "source": [
    "下記のプログラムで、学習したモデルを使ってテスト用データの分類（予測）を行うことができます。  \n",
    "予測結果がどのような形式なのかを確認してください。"
   ]
  },
  {
   "cell_type": "code",
   "execution_count": null,
   "metadata": {
    "colab": {
     "base_uri": "https://localhost:8080/",
     "height": 3835
    },
    "colab_type": "code",
    "executionInfo": {
     "elapsed": 9917,
     "status": "ok",
     "timestamp": 1550646012007,
     "user": {
      "displayName": "Masatoshi Itagaki",
      "photoUrl": "https://lh3.googleusercontent.com/-SGDpXt5ReZs/AAAAAAAAAAI/AAAAAAAAAIE/63os4VeHmA8/s64/photo.jpg",
      "userId": "04462290006021813429"
     },
     "user_tz": -540
    },
    "id": "Jn9HHXysMki5",
    "outputId": "aa9ccfe3-90e5-4e6a-8621-af19cc52c13d"
   },
   "outputs": [],
   "source": [
    "predictions = model.predict_generator(test_generator, steps=test_steps)\n",
    "\n",
    "print(predictions)"
   ]
  },
  {
   "cell_type": "markdown",
   "metadata": {
    "colab_type": "text",
    "id": "og6H4zCTMki8"
   },
   "source": [
    "## モデルの予測結果を見てみる"
   ]
  },
  {
   "cell_type": "markdown",
   "metadata": {
    "colab_type": "text",
    "id": "z8mw0aq7Mki-"
   },
   "source": [
    "次のプログラムを実行すると、テスト用データの１バッチ分についてモデルの予測値と正解を画像つきで確認できます。  \n",
    "どのような結果になったかを確認してください。"
   ]
  },
  {
   "cell_type": "code",
   "execution_count": null,
   "metadata": {
    "colab": {
     "base_uri": "https://localhost:8080/",
     "height": 9268,
     "output_embedded_package_id": "1nPe6HLvj0qx3x0ea0iJUHF6bY94Qr2wF"
    },
    "colab_type": "code",
    "executionInfo": {
     "elapsed": 11551,
     "status": "ok",
     "timestamp": 1550646031501,
     "user": {
      "displayName": "Masatoshi Itagaki",
      "photoUrl": "https://lh3.googleusercontent.com/-SGDpXt5ReZs/AAAAAAAAAAI/AAAAAAAAAIE/63os4VeHmA8/s64/photo.jpg",
      "userId": "04462290006021813429"
     },
     "user_tz": -540
    },
    "id": "I3gm5I2LMki_",
    "outputId": "29c913ad-4a5d-4ab6-93df-fc888f4fdcbf"
   },
   "outputs": [],
   "source": [
    "import numpy as np\n",
    "import matplotlib.pyplot as plt\n",
    "%matplotlib inline\n",
    "\n",
    "code_to_class = {0: 'ラーメン', 1: 'うどん'}\n",
    "\n",
    "x, y = next(test_generator)\n",
    "y_true = np.argmax(y, axis=1)\n",
    "y_prob = model.predict_on_batch(x)\n",
    "y_pred = np.argmax(y_prob, axis=1)\n",
    "\n",
    "for i in range(len(x)):\n",
    "    plt.imshow(x[i])\n",
    "    plt.show()\n",
    "    print('推定：', code_to_class[y_pred[i]])\n",
    "    print('正解：', code_to_class[y_true[i]])"
   ]
  },
  {
   "cell_type": "code",
   "execution_count": null,
   "metadata": {
    "colab": {},
    "colab_type": "code",
    "id": "xtLMWNwVMkjC"
   },
   "outputs": [],
   "source": []
  }
 ],
 "metadata": {
  "accelerator": "GPU",
  "colab": {
   "collapsed_sections": [],
   "name": "cnn_exercise_02.ipynb",
   "provenance": [
    {
     "file_id": "https://github.com/masa-ita/keras-cnn-hands-on/blob/master/cnn_exercise_01.ipynb",
     "timestamp": 1548825560464
    }
   ],
   "version": "0.3.2"
  },
  "kernelspec": {
   "display_name": "Python 3",
   "language": "python",
   "name": "python3"
  },
  "language_info": {
   "codemirror_mode": {
    "name": "ipython",
    "version": 3
   },
   "file_extension": ".py",
   "mimetype": "text/x-python",
   "name": "python",
   "nbconvert_exporter": "python",
   "pygments_lexer": "ipython3",
   "version": "3.6.5"
  },
  "varInspector": {
   "cols": {
    "lenName": 16,
    "lenType": 16,
    "lenVar": 40
   },
   "kernels_config": {
    "python": {
     "delete_cmd_postfix": "",
     "delete_cmd_prefix": "del ",
     "library": "var_list.py",
     "varRefreshCmd": "print(var_dic_list())"
    },
    "r": {
     "delete_cmd_postfix": ") ",
     "delete_cmd_prefix": "rm(",
     "library": "var_list.r",
     "varRefreshCmd": "cat(var_dic_list()) "
    }
   },
   "types_to_exclude": [
    "module",
    "function",
    "builtin_function_or_method",
    "instance",
    "_Feature"
   ],
   "window_display": false
  }
 },
 "nbformat": 4,
 "nbformat_minor": 1
}
=======
  "nbformat": 4,
  "nbformat_minor": 0,
  "metadata": {
    "colab": {
      "name": "cnn_exercise_02.ipynb",
      "version": "0.3.2",
      "provenance": [],
      "collapsed_sections": []
    },
    "kernelspec": {
      "name": "python3",
      "display_name": "Python 3"
    },
    "accelerator": "GPU"
  },
  "cells": [
    {
      "metadata": {
        "id": "8Lx0-D-yMkhL",
        "colab_type": "text"
      },
      "cell_type": "markdown",
      "source": [
        "# Kerasを用いた画像分類入門（２）"
      ]
    },
    {
      "metadata": {
        "id": "33A7rPAMTyy4",
        "colab_type": "text"
      },
      "cell_type": "markdown",
      "source": [
        "##  過学習の抑制"
      ]
    },
    {
      "metadata": {
        "id": "TMBFBPcrMkhO",
        "colab_type": "text"
      },
      "cell_type": "markdown",
      "source": [
        "## Google Colab用の設定"
      ]
    },
    {
      "metadata": {
        "id": "4fhUwifgMkhR",
        "colab_type": "text"
      },
      "cell_type": "markdown",
      "source": [
        "Google Colaboratory で実行する場合には下記のセルを実行してください。"
      ]
    },
    {
      "metadata": {
        "id": "-EoFxRtmMkhU",
        "colab_type": "code",
        "outputId": "8aa508e3-8a38-48d0-e4af-d14f268af30b",
        "colab": {
          "base_uri": "https://localhost:8080/",
          "height": 35
        }
      },
      "cell_type": "code",
      "source": [
        "from google.colab import drive\n",
        "drive.mount('/content/gdrive')"
      ],
      "execution_count": 0,
      "outputs": [
        {
          "output_type": "stream",
          "text": [
            "Drive already mounted at /content/gdrive; to attempt to forcibly remount, call drive.mount(\"/content/gdrive\", force_remount=True).\n"
          ],
          "name": "stdout"
        }
      ]
    },
    {
      "metadata": {
        "id": "3UTLvK2uMkhb",
        "colab_type": "code",
        "outputId": "37520cdf-08db-4e83-d311-db559d13b76a",
        "colab": {
          "base_uri": "https://localhost:8080/",
          "height": 17912
        }
      },
      "cell_type": "code",
      "source": [
        "!unzip /content/gdrive/My\\ Drive/GD_share01/noodles.zip -d /content"
      ],
      "execution_count": 0,
      "outputs": [
        {
          "output_type": "stream",
          "text": [
            "Archive:  /content/gdrive/My Drive/GD_share01/noodles.zip\n",
            "replace /content/noodles/.DS_Store? [y]es, [n]o, [A]ll, [N]one, [r]ename: n\n",
            "replace /content/__MACOSX/noodles/._.DS_Store? [y]es, [n]o, [A]ll, [N]one, [r]ename: A\n",
            "  inflating: /content/__MACOSX/noodles/._.DS_Store  \n",
            " extracting: /content/noodles/validaiton/Icon  \n",
            "  inflating: /content/__MACOSX/noodles/validaiton/._Icon  \n",
            " extracting: /content/noodles/validaiton/udon/Icon  \n",
            "  inflating: /content/__MACOSX/noodles/validaiton/udon/._Icon  \n",
            "  inflating: /content/noodles/validaiton/udon/06078751ab342a44bedc08e235d5ef5c.jpg  \n",
            "  inflating: /content/noodles/validaiton/udon/9bc003c9f8f02ac50457632ae16a53c0.jpg  \n",
            "  inflating: /content/noodles/validaiton/udon/4bdc23f3086ffee25dd3bb067b964f91.jpg  \n",
            "  inflating: /content/noodles/validaiton/udon/904fa4de320429df7262444ff12bc51f.jpg  \n",
            "  inflating: /content/noodles/validaiton/udon/694ee8c6be241752a295d5d41cfb679b.jpg  \n",
            "  inflating: /content/noodles/validaiton/udon/daf90a50bbc4395f42fe7a5248014aee.jpg  \n",
            "  inflating: /content/noodles/validaiton/udon/e7a3e513e32c4679c4418ef55e7edea4.jpg  \n",
            "  inflating: /content/noodles/validaiton/udon/963e35603fc8530181bfd5fafb752990.jpg  \n",
            "  inflating: /content/noodles/validaiton/udon/202197f5140ca0f6d516c94597bbe814.jpg  \n",
            "  inflating: /content/noodles/validaiton/udon/a87cdebb3fdae97c2297fe6117203c27.jpg  \n",
            "  inflating: /content/noodles/validaiton/udon/cea79e1a2777463f58dcfa983b810b55.jpg  \n",
            "  inflating: /content/noodles/validaiton/udon/b8904672b20b4e28637e459bab8a8672.jpg  \n",
            "  inflating: /content/noodles/validaiton/udon/51bf25022ae51f9cf080ecf882735c09.jpg  \n",
            "  inflating: /content/noodles/validaiton/udon/85c6042242262efed4b1ab53ed21576d.jpg  \n",
            "  inflating: /content/noodles/validaiton/udon/ec98aaf3b3d9033ce24c40f6d91c680f.jpg  \n",
            "  inflating: /content/noodles/validaiton/udon/e6cdf7ad1dd38c8de6b2db01fbe182b5.jpg  \n",
            "  inflating: /content/noodles/validaiton/udon/6b23e2c26445dbaf22257b629cd01bc4.jpg  \n",
            "  inflating: /content/noodles/validaiton/udon/0e451963efc900d66584c11579d7603f.jpg  \n",
            "  inflating: /content/noodles/validaiton/udon/b7b798eb4247ae3410f12ebdf1cd6abd.jpg  \n",
            "  inflating: /content/noodles/validaiton/udon/9acd648791fedad695a8887243d74e35.jpg  \n",
            "  inflating: /content/noodles/validaiton/udon/ae65d12b638a71219dbee8747410576a.jpg  \n",
            "  inflating: /content/noodles/validaiton/udon/f1798bb46db1726f7a97bcc1dabd8bab.jpg  \n",
            "  inflating: /content/noodles/validaiton/udon/d58d2b3dda3cdf5750491c339f58749f.jpg  \n",
            "  inflating: /content/noodles/validaiton/udon/1223c6fd30371d05d8fad4f2ef4f4894.jpg  \n",
            "  inflating: /content/noodles/validaiton/udon/13d0e0ada68792c1f120828bcab5cbbe.jpg  \n",
            "  inflating: /content/noodles/validaiton/udon/fa0768933db5f8fcf87bce9a0881657a.jpg  \n",
            "  inflating: /content/noodles/validaiton/udon/0035a169051a0afbd792f30a82934a3e.jpg  \n",
            "  inflating: /content/noodles/validaiton/udon/4217bc8a222b0128485f46d0218528fd.jpg  \n",
            "  inflating: /content/noodles/validaiton/udon/2cbd59156b2d61dda247d6d2b555e871.jpg  \n",
            "  inflating: /content/noodles/validaiton/udon/e20df87f564745fffbb87e45e9978c98.jpg  \n",
            "  inflating: /content/noodles/validaiton/udon/535b21f9739d514044e5f6e9778c1fd8.jpg  \n",
            "  inflating: /content/noodles/validaiton/udon/ed1f17aef3f501d60bc51f33eaa31acd.jpg  \n",
            "  inflating: /content/noodles/validaiton/udon/ad9690316e6074e32f8ebc92ae10f311.jpg  \n",
            "  inflating: /content/noodles/validaiton/udon/da66c0c39753988b6498fe1bdf83aa3f.jpg  \n",
            "  inflating: /content/noodles/validaiton/udon/0d3486e1682132d6bdd36a623dde48a4.jpg  \n",
            "  inflating: /content/noodles/validaiton/udon/1e206f2bca107b755f27a6b4404724ec.jpg  \n",
            "  inflating: /content/noodles/validaiton/udon/f1b8de78912abba4638954c4dfc2a5f4.jpg  \n",
            "  inflating: /content/noodles/validaiton/udon/1809b975098bd8b04ce70e6ad1b71233.jpg  \n",
            "  inflating: /content/noodles/validaiton/udon/b12e688e3e238fb02dee4f1901357e43.jpg  \n",
            "  inflating: /content/noodles/validaiton/udon/5427f55ba1f1b816ff7602321e593071.jpg  \n",
            "  inflating: /content/noodles/validaiton/udon/005b96c51ae7adbc7acc5c4e4a790fbb.jpg  \n",
            "  inflating: /content/noodles/validaiton/udon/66173cca6fa6286c863e29b4f25cd963.jpg  \n",
            "  inflating: /content/noodles/validaiton/udon/1b5e1101d21521dc9941cf9ce89ef4c5.jpg  \n",
            "  inflating: /content/noodles/validaiton/udon/22c283fbe8e6208a26636c6cbc2e919d.jpg  \n",
            "  inflating: /content/noodles/validaiton/udon/8aad3650aff5b0f9330d010ebfe37246.jpg  \n",
            "  inflating: /content/noodles/validaiton/udon/d4bc493fe6f12c3d810160d9c6993eae.jpg  \n",
            "  inflating: /content/noodles/validaiton/udon/2fb392b0a44f84de388496affb765930.jpg  \n",
            "  inflating: /content/noodles/validaiton/udon/8d3e4f4550c1b4b26193e4bc26d00a1e.jpg  \n",
            "  inflating: /content/noodles/validaiton/udon/7a7cb2133ad83d6cd6857440a3168b0e.jpg  \n",
            "  inflating: /content/noodles/validaiton/udon/b649b6b7e50f72cfd9cb4c30dca0e3af.jpg  \n",
            "  inflating: /content/noodles/validaiton/udon/bc61f9567c415b7cea269ba0becc5e15.jpg  \n",
            "  inflating: /content/noodles/validaiton/udon/f7eaa6c73404b8db4a25348004901fb7.jpg  \n",
            "  inflating: /content/noodles/validaiton/udon/81f8f43d2d4243b736f456750b35642c.jpg  \n",
            "  inflating: /content/noodles/validaiton/udon/c21ab654f11131ac89ecc745019c4bcc.jpg  \n",
            "  inflating: /content/noodles/validaiton/udon/0ba18a8a8b878dd11c7076f0f71cda63.jpg  \n",
            "  inflating: /content/noodles/validaiton/udon/1b93b120430f34b684e636657dc8e759.jpg  \n",
            "  inflating: /content/noodles/validaiton/udon/a172f3d37319eb9163dec4bdf6d5a504.jpg  \n",
            "  inflating: /content/noodles/validaiton/udon/883a5f6f5afbb9f8664d0520898718f4.jpg  \n",
            "  inflating: /content/noodles/validaiton/udon/7ba98a8495820feaefb2d1f543c0df69.jpg  \n",
            "  inflating: /content/noodles/validaiton/udon/b0848380da33995c7bb8055cd757f2eb.jpg  \n",
            "  inflating: /content/noodles/validaiton/udon/d66f126eddab0c67727b6fda4e67ce53.jpg  \n",
            "  inflating: /content/noodles/validaiton/udon/3cc93fb08325736d26ab967da666d18b.jpg  \n",
            "  inflating: /content/noodles/validaiton/udon/fd125980494608e3f42e64ff86e54b22.jpg  \n",
            "  inflating: /content/noodles/validaiton/udon/fdff917b34a12d8994290ea118112a62.jpg  \n",
            "  inflating: /content/noodles/validaiton/udon/d1f989464f86488b9ffb358bffeceb15.jpg  \n",
            "  inflating: /content/noodles/validaiton/udon/e9060c5d37a327a62a12b76bc2db504d.jpg  \n",
            "  inflating: /content/noodles/validaiton/udon/75efd1717b1a8e8e937d65b048c1662e.jpg  \n",
            "  inflating: /content/noodles/validaiton/udon/2dccbfe5e94c97fd605701cb49bbbbb4.jpg  \n",
            "  inflating: /content/noodles/validaiton/udon/59e1c5a8084930b3f83194a9cd063d37.jpg  \n",
            "  inflating: /content/noodles/validaiton/udon/a995c7cabc856a656bbaf928dc26a4aa.jpg  \n",
            "  inflating: /content/noodles/validaiton/udon/32761e4a76e850e8b83790658a2f98f4.jpg  \n",
            "  inflating: /content/noodles/validaiton/udon/d7fb56c18077a257f0222ccadf62dd77.jpg  \n",
            "  inflating: /content/noodles/validaiton/udon/73c83595a71c59d93e2f2549b552e777.jpg  \n",
            "  inflating: /content/noodles/validaiton/udon/cb65edcbf68e0151596e297c1181aef2.jpg  \n",
            "  inflating: /content/noodles/validaiton/udon/fb5e18b97397ed42aa1672c5ea40529d.jpg  \n",
            "  inflating: /content/noodles/validaiton/udon/8ff1b05c5f2ba1ed805aeb9910f6620c.jpg  \n",
            "  inflating: /content/noodles/validaiton/udon/fbaf7766f9ed817aea0689ac877775da.jpg  \n",
            "  inflating: /content/noodles/validaiton/udon/4c440369136c1e2d8204c3809dc31e17.jpg  \n",
            "  inflating: /content/noodles/validaiton/udon/c7ac14bcf9d4aac98b983e86fcf6e8b4.jpg  \n",
            "  inflating: /content/noodles/validaiton/udon/10c94cdc77f57ebf04bde44cd5166ef4.jpg  \n",
            "  inflating: /content/noodles/validaiton/udon/6b9ba9e476207b231441047fe5ad48c4.jpg  \n",
            "  inflating: /content/noodles/validaiton/udon/9f4f18cb2a6e946afe3d24912bb6c497.jpg  \n",
            "  inflating: /content/noodles/validaiton/udon/b6203174be13a98cbe36950a2e1dd7e5.jpg  \n",
            "  inflating: /content/noodles/validaiton/udon/cca2687adac0e2092269c4c8780dcc08.jpg  \n",
            "  inflating: /content/noodles/validaiton/udon/2c57c371a4b62c83b0bbdc3d0639f01c.jpg  \n",
            "  inflating: /content/noodles/validaiton/udon/43db41d6fcaee5c42de68e756822bfd6.jpg  \n",
            "  inflating: /content/noodles/validaiton/udon/8b4b9c4bcb8f9d8d45aaca1db662b45e.jpg  \n",
            "  inflating: /content/noodles/validaiton/udon/17a89694fd7c89818115dfbd341e1aa4.jpg  \n",
            "  inflating: /content/noodles/validaiton/udon/2a6a3e0dba0d3b8ce715f722a45fcfbb.jpg  \n",
            "  inflating: /content/noodles/validaiton/udon/d1843c613c0fc0b0d48daf9c9c864bed.jpg  \n",
            "  inflating: /content/noodles/validaiton/udon/e6a4140e04cf71bc459a9d6bbcc3786a.jpg  \n",
            "  inflating: /content/noodles/validaiton/udon/8aec094ed72b08c28fbe0e06799a1304.jpg  \n",
            "  inflating: /content/noodles/validaiton/udon/c3c2bee25b4cef047ca72cc30faa8b2d.jpg  \n",
            "  inflating: /content/noodles/validaiton/udon/9058a3c9f5aefb303b63055597a4a5b9.jpg  \n",
            "  inflating: /content/noodles/validaiton/udon/bc93e6b1b30b69efbce95f163d6bbf39.jpg  \n",
            "  inflating: /content/noodles/validaiton/udon/98df6a1f8631d389838bef0e109b04ea.jpg  \n",
            "  inflating: /content/noodles/validaiton/udon/167b71350c6a0041aa4537c695ff1fd3.jpg  \n",
            "  inflating: /content/noodles/validaiton/udon/c689aea02278ed22b06b7d18e5d1c94e.jpg  \n",
            "  inflating: /content/noodles/validaiton/udon/8effb1aae893a3dffd67228fed3ca44d.jpg  \n",
            "  inflating: /content/noodles/validaiton/udon/86bbff58d9d29afdab24c17a24d88b97.jpg  \n",
            "  inflating: /content/__MACOSX/noodles/validaiton/._udon  \n",
            " extracting: /content/noodles/validaiton/ramen/Icon  \n",
            "  inflating: /content/__MACOSX/noodles/validaiton/ramen/._Icon  \n",
            "  inflating: /content/noodles/validaiton/ramen/a72626b40c53134d7142146fc23851da.jpg  \n",
            "  inflating: /content/noodles/validaiton/ramen/b83e49aa8eaa56cbc9ce97a262db66d2.jpg  \n",
            "  inflating: /content/noodles/validaiton/ramen/28bc3394c0d1db4c9181a6a600a36af4.jpg  \n",
            "  inflating: /content/noodles/validaiton/ramen/1f4e14142c55ba435d5a1b2f45a1840a.jpg  \n",
            "  inflating: /content/noodles/validaiton/ramen/76fedbd7156eafbe652ae053f0513868.jpg  \n",
            "  inflating: /content/noodles/validaiton/ramen/2f4c9b4d1e461e625f0fc1fcdb19fc99.jpg  \n",
            "  inflating: /content/noodles/validaiton/ramen/d5714d275e05d89bef66885607212141.jpg  \n",
            "  inflating: /content/noodles/validaiton/ramen/f0d31db19fa0d5e6e9b5facb19d8618d.jpg  \n",
            "  inflating: /content/noodles/validaiton/ramen/567417814c1b3d2a119509c420b27626.jpg  \n",
            "  inflating: /content/noodles/validaiton/ramen/448d6f61a61fa5ba405de81787b94aa3.jpg  \n",
            "  inflating: /content/noodles/validaiton/ramen/48da8c1150565ab760c14a0bbc3ba259.jpg  \n",
            "  inflating: /content/noodles/validaiton/ramen/3896f0f8a23b08aeecb92aa4146ce5ed.jpg  \n",
            "  inflating: /content/noodles/validaiton/ramen/9e4fedb5aff438aa3104b644f4b7910d.jpg  \n",
            "  inflating: /content/noodles/validaiton/ramen/c7867e5102b241bd58b418702572e51d.jpg  \n",
            "  inflating: /content/noodles/validaiton/ramen/2cb23367c4088fef7c31bebceac0b704.jpg  \n",
            "  inflating: /content/noodles/validaiton/ramen/6bca808952368547d3447def76d06b5b.jpg  \n",
            "  inflating: /content/noodles/validaiton/ramen/1ac1a2ec492bacf8cc9d379a251a489e.jpg  \n",
            "  inflating: /content/noodles/validaiton/ramen/ba612aff1be7235408afb3b3fdd82191.jpg  \n",
            "  inflating: /content/noodles/validaiton/ramen/2697e646ca07faf1c530a76b67dbd441.jpg  \n",
            "  inflating: /content/noodles/validaiton/ramen/88d82d0cdf2f7a708c185eaadf28cb4e.jpg  \n",
            "  inflating: /content/noodles/validaiton/ramen/ae8ea7173fdd4e7f78d7b350155b5647.jpg  \n",
            "  inflating: /content/noodles/validaiton/ramen/0a6ba822338db25f0103efaa393272d3.jpg  \n",
            "  inflating: /content/noodles/validaiton/ramen/0a5138301b036356473880dd880a75cf.jpg  \n",
            "  inflating: /content/noodles/validaiton/ramen/c5b4c40db37fb9fbe58cfdc31256174a.jpg  \n",
            "  inflating: /content/noodles/validaiton/ramen/03f8f134736f585014a340f5e9e147d1.jpg  \n",
            "  inflating: /content/noodles/validaiton/ramen/c6d25c4dae01ad19debe57c69611abaf.jpg  \n",
            "  inflating: /content/noodles/validaiton/ramen/e465890ec59eb925d1a165c5b33d01ae.jpg  \n",
            "  inflating: /content/noodles/validaiton/ramen/fd09588880f2db4b9591326b98bee33e.jpg  \n",
            "  inflating: /content/noodles/validaiton/ramen/f7bed6c369fad8a228b56c49b1f3b2f8.jpg  \n",
            "  inflating: /content/noodles/validaiton/ramen/ebf20f49982f6276ba4c16025cd19367.jpg  \n",
            "  inflating: /content/noodles/validaiton/ramen/d10603bc61ce317159553ef195070324.jpg  \n",
            "  inflating: /content/noodles/validaiton/ramen/81e43a80901ae7863978756955377c1c.jpg  \n",
            "  inflating: /content/noodles/validaiton/ramen/0220d9d1e8bf2906553a81e29e08e24b.png  \n",
            "  inflating: /content/noodles/validaiton/ramen/d5f48da2cd7aa619bee43492ee7b10f4.jpg  \n",
            "  inflating: /content/noodles/validaiton/ramen/8f79235bba7fc4b5b1f4b90f5b47fffd.jpg  \n",
            "  inflating: /content/noodles/validaiton/ramen/95d2f29c6b556fb0c6e106821bb38a2c.jpg  \n",
            "  inflating: /content/noodles/validaiton/ramen/a0e958a8a74c6e5e176e4e6c742ea412.jpg  \n",
            "  inflating: /content/noodles/validaiton/ramen/c3c7a3080fee8daab7bde4c47cb50b46.png  \n",
            "  inflating: /content/noodles/validaiton/ramen/1988208934db66968fdf1812bb600454.jpg  \n",
            "  inflating: /content/noodles/validaiton/ramen/1ba8445990807079281cfee2c1bb2c63.jpg  \n",
            "  inflating: /content/noodles/validaiton/ramen/f8602db2449c35b5ffc53c1bd621ac12.jpg  \n",
            "  inflating: /content/noodles/validaiton/ramen/6733104a37e284565c6fd55ba7c15900.jpg  \n",
            "  inflating: /content/noodles/validaiton/ramen/ba87d91afea33f8596996d7a702bfedf.jpg  \n",
            "  inflating: /content/noodles/validaiton/ramen/34659afa5b279c374ceb44f33a72f846.jpg  \n",
            "  inflating: /content/noodles/validaiton/ramen/d1229dd8be5fa00a344ca33a40a3701c.jpg  \n",
            "  inflating: /content/noodles/validaiton/ramen/4af20d5f9c88b7516cbd5ce98e36bc3f.jpg  \n",
            "  inflating: /content/noodles/validaiton/ramen/b7ad9d17970d84ab028540880f856481.jpg  \n",
            "  inflating: /content/noodles/validaiton/ramen/fb3caf2ac13bd6c61885dd2a6351f4f0.jpg  \n",
            "  inflating: /content/noodles/validaiton/ramen/6de1daea614dd729b8a231fb9ccfd54f.jpg  \n",
            "  inflating: /content/noodles/validaiton/ramen/5cd3bd718511d4f2792a561b9375a5b9.jpg  \n",
            "  inflating: /content/noodles/validaiton/ramen/f4e3ec5d9418b762b4faffb823000eb7.jpg  \n",
            "  inflating: /content/noodles/validaiton/ramen/b5942d206ed104922610db9f3befa45c.jpg  \n",
            "  inflating: /content/noodles/validaiton/ramen/290908cc55db5030a2fa1240a1358a50.jpg  \n",
            "  inflating: /content/noodles/validaiton/ramen/9d70bb2e95b32d77c310058236938b73.jpg  \n",
            "  inflating: /content/noodles/validaiton/ramen/b7925fdc222682bbf28a5f868b2b031e.jpg  \n",
            "  inflating: /content/noodles/validaiton/ramen/9a99b929bd6c2a1c9a83e9c1389dfdcc.jpg  \n",
            "  inflating: /content/noodles/validaiton/ramen/8be31162616dd81145324ab51dd1c8cd.jpg  \n",
            "  inflating: /content/noodles/validaiton/ramen/f24c29707e067e6309937b0e35f8ddc7.jpg  \n",
            "  inflating: /content/noodles/validaiton/ramen/978d4d67e612863c2f242e952fdd2f9f.jpg  \n",
            "  inflating: /content/noodles/validaiton/ramen/90f46ae0536c18f507cc690e15fad9ae.jpg  \n",
            "  inflating: /content/noodles/validaiton/ramen/8bd68407942708a39cbf1d4b22d397f5.jpg  \n",
            "  inflating: /content/noodles/validaiton/ramen/966f6afae3412207f151d1589dae8a59.jpg  \n",
            "  inflating: /content/noodles/validaiton/ramen/0cd4c1b4b549e11471c2c6010549e904.jpg  \n",
            "  inflating: /content/noodles/validaiton/ramen/b226b48466003d5e6c8f1b83c26c03b6.jpg  \n",
            "  inflating: /content/noodles/validaiton/ramen/45b8a54dd03bae9a8406aac861beff1a.jpg  \n",
            "  inflating: /content/noodles/validaiton/ramen/27783683195e59ae50b745d6551b1ba4.jpg  \n",
            "  inflating: /content/noodles/validaiton/ramen/8c7d129623c593d64f089bd94bae8133.jpg  \n",
            "  inflating: /content/noodles/validaiton/ramen/f6561a488d0360ef77c138209b15c71b.jpg  \n",
            "  inflating: /content/noodles/validaiton/ramen/b7b998188c9dec207b9cfc8fa7398d13.jpg  \n",
            "  inflating: /content/noodles/validaiton/ramen/04d9bfe2d8437ed5072f2f183ad41511.jpg  \n",
            "  inflating: /content/noodles/validaiton/ramen/3e66af8202919e6c11de38d91769e6c9.jpg  \n",
            "  inflating: /content/noodles/validaiton/ramen/644370ab2ac54dd0bdf5b562a772b663.jpg  \n",
            "  inflating: /content/noodles/validaiton/ramen/d3bf9d108c933c111b2b1a1d632c1991.jpg  \n",
            "  inflating: /content/noodles/validaiton/ramen/3610755378fda24d2e166f5cbfa85a7f.jpg  \n",
            "  inflating: /content/noodles/validaiton/ramen/b0106aac5e1cebf873a0ac08bacc3da5.jpg  \n",
            "  inflating: /content/noodles/validaiton/ramen/823724b69467f58f29c608f7067e87fc.jpg  \n",
            "  inflating: /content/noodles/validaiton/ramen/64d6f033a8cc0dfbc83c8ffa72252a99.jpg  \n",
            "  inflating: /content/noodles/validaiton/ramen/e4dc8323039dde75ccb5df9aaea4d3cc.jpg  \n",
            "  inflating: /content/noodles/validaiton/ramen/22dd1f71cfa86be69748b84809b0c8ce.jpg  \n",
            "  inflating: /content/noodles/validaiton/ramen/c382efe81edcbae9fb9a3e39a81e0696.jpg  \n",
            "  inflating: /content/noodles/validaiton/ramen/48c77ee400d62af4a123d316764fc573.jpg  \n",
            "  inflating: /content/noodles/validaiton/ramen/b6b21b64e1897def52308c1d68ce8ad5.jpg  \n",
            "  inflating: /content/noodles/validaiton/ramen/8bd24746ee635069295061423aeef8af.jpg  \n",
            "  inflating: /content/noodles/validaiton/ramen/780b74afd6bf1418b260764dce9c05c8.jpg  \n",
            "  inflating: /content/noodles/validaiton/ramen/8ba4d7335ff1419f0dd44980277afc6b.jpg  \n",
            "  inflating: /content/noodles/validaiton/ramen/086cde8b41aef5076d51d73dc8d601e1.jpg  \n",
            "  inflating: /content/noodles/validaiton/ramen/410e3cb4c34f027f571d0e51aef11a77.jpg  \n",
            "  inflating: /content/noodles/validaiton/ramen/a76df53db1f9aac5de78fa60990784c7.jpg  \n",
            "  inflating: /content/noodles/validaiton/ramen/110d82b8b48b5aa6095ba93dd89d58b1.jpg  \n",
            "  inflating: /content/noodles/validaiton/ramen/bb77b6521195d82fbdc00b513fb3f556.jpg  \n",
            "  inflating: /content/noodles/validaiton/ramen/08f78c8e2e53989a68d7e3b864bd579f.jpg  \n",
            "  inflating: /content/noodles/validaiton/ramen/edebfc8ea7e6baa228499825db7388d3.jpg  \n",
            "  inflating: /content/noodles/validaiton/ramen/3e40b1759eff5096b51c257e75e430a9.jpg  \n",
            "  inflating: /content/noodles/validaiton/ramen/b662c9ac03462e92e07a8260df1f3e52.jpg  \n",
            "  inflating: /content/noodles/validaiton/ramen/14adeb3f867cf67e5c8521f4079f9fd8.jpg  \n",
            "  inflating: /content/noodles/validaiton/ramen/3f9216a8b3ebeea4d6e21c88d49b000c.jpg  \n",
            "  inflating: /content/noodles/validaiton/ramen/66ac74309a02646f1c31be1239050088.jpg  \n",
            "  inflating: /content/noodles/validaiton/ramen/b021000a266485183435961beba326cd.jpg  \n",
            "  inflating: /content/noodles/validaiton/ramen/530913ced5b216f47a9688fa7f155945.jpg  \n",
            "  inflating: /content/noodles/validaiton/ramen/55f138773cabaa1dbee8e63b0d9cecc1.jpg  \n",
            "  inflating: /content/__MACOSX/noodles/validaiton/._ramen  \n",
            "  inflating: /content/__MACOSX/noodles/._validaiton  \n",
            " extracting: /content/noodles/Icon   \n",
            "  inflating: /content/__MACOSX/noodles/._Icon  \n",
            " extracting: /content/noodles/test/Icon  \n",
            "  inflating: /content/__MACOSX/noodles/test/._Icon  \n",
            " extracting: /content/noodles/test/udon/Icon  \n",
            "  inflating: /content/__MACOSX/noodles/test/udon/._Icon  \n",
            "  inflating: /content/noodles/test/udon/f8a77568ff6b5c03fc4502b59bb0f5bd.jpg  \n",
            "  inflating: /content/noodles/test/udon/111ec27a535af2c06a32726a63c0629e.jpg  \n",
            "  inflating: /content/noodles/test/udon/9ece54ace34873111bc1070656335299.jpg  \n",
            "  inflating: /content/noodles/test/udon/5e1309b1b4c427ee802da41c32c0f177.jpg  \n",
            "  inflating: /content/noodles/test/udon/679fce777700b34885515d27138ca662.jpg  \n",
            "  inflating: /content/noodles/test/udon/67547ade156e5cdf0e591069395ab626.jpg  \n",
            "  inflating: /content/noodles/test/udon/c6e48b4a296cbfe43d6ddfc5ad6fe04d.jpg  \n",
            "  inflating: /content/noodles/test/udon/17e7ba24389d15faa8ec3f082013ddc0.jpg  \n",
            "  inflating: /content/noodles/test/udon/876ae199c0b61de6d1580fa402316a17.jpg  \n",
            "  inflating: /content/noodles/test/udon/b0a7753149650d31de6729a964cedd13.jpg  \n",
            "  inflating: /content/noodles/test/udon/d1f3114e374bdee1649917716e6826ac.jpg  \n",
            "  inflating: /content/noodles/test/udon/45ad5f6c2819a1a0bc5a267dbb399716.jpg  \n",
            "  inflating: /content/noodles/test/udon/111d37eb4ac7cfa268001133857db4ec.jpg  \n",
            "  inflating: /content/noodles/test/udon/6be8942974e4303ceef4811f02587c51.jpg  \n",
            "  inflating: /content/noodles/test/udon/fdcfecd3d76b58735a4924ac0f29a91a.jpg  \n",
            "  inflating: /content/noodles/test/udon/9cde0dbe884dc507fca2ea91afb7a95e.jpg  \n",
            "  inflating: /content/noodles/test/udon/1de1ca40a09dffee9816476768c1d041.jpeg  \n",
            "  inflating: /content/noodles/test/udon/90925e156d81d2cc067054e8bcb9475b.jpg  \n",
            "  inflating: /content/noodles/test/udon/c46551a31cc90e038b55535ad665269f.jpg  \n",
            "  inflating: /content/noodles/test/udon/c3e5ea8ca3d72abb71b0e388b0ac25ef.jpg  \n",
            "  inflating: /content/noodles/test/udon/ccfb490b6c0f66e83ce710176ce89bf8.jpg  \n",
            "  inflating: /content/noodles/test/udon/e6c90ecfd2f89c0fa7bf6a01505a5c30.jpg  \n",
            "  inflating: /content/noodles/test/udon/75397daf8d714852df390e201713938e.jpg  \n",
            "  inflating: /content/noodles/test/udon/9c7fa0a596aa3bc52cb0560bb4c51564.jpg  \n",
            "  inflating: /content/noodles/test/udon/a0c2c003e5aad3282f7689651cc29868.jpg  \n",
            "  inflating: /content/noodles/test/udon/773291c76cf4cee22619565f33f5085d.jpg  \n",
            "  inflating: /content/noodles/test/udon/fdcb60ad88d1c7372cc3905b48f53cce.jpg  \n",
            "  inflating: /content/noodles/test/udon/850de205d503d5f9f7821c88917e7869.png  \n",
            "  inflating: /content/noodles/test/udon/f7edc5cdb6ee595e01f8ed9aa25e0184.jpg  \n",
            "  inflating: /content/noodles/test/udon/3a98ac73f9baa520be7e8310d2227283.jpg  \n",
            "  inflating: /content/noodles/test/udon/6f7041f75668fb97a0619cdc57b7841d.jpg  \n",
            "  inflating: /content/noodles/test/udon/14c97039f5afb1615f2a4631db33d901.jpg  \n",
            "  inflating: /content/noodles/test/udon/a170a53c05e35983541048e269f79a5d.jpg  \n",
            "  inflating: /content/noodles/test/udon/b06f0fa965be3d192c17ddf7f8a18d2d.jpg  \n",
            "  inflating: /content/noodles/test/udon/3e00931b21c9471e5fa90444204d1904.jpg  \n",
            "  inflating: /content/noodles/test/udon/d2e71158598c55a06324d73840f609ac.jpg  \n",
            "  inflating: /content/noodles/test/udon/1597c3099be6fd1d623c11d19d68c22b.jpg  \n",
            "  inflating: /content/noodles/test/udon/976c6772abd105b33877eecc451c16e8.jpg  \n",
            "  inflating: /content/noodles/test/udon/2abe51bc7dfa5aeaa7f4ebd4f52f2484.jpg  \n",
            "  inflating: /content/noodles/test/udon/ee1ce839a74be1630f1db44b6d1830c6.jpg  \n",
            "  inflating: /content/noodles/test/udon/d1a93e14c3272a97229de4bce1248418.jpg  \n",
            "  inflating: /content/noodles/test/udon/2abeee53e604d61f745deae72826005f.jpg  \n",
            "  inflating: /content/noodles/test/udon/47211e85c46f8c45fe2b2e6d511fd219.jpg  \n",
            "  inflating: /content/noodles/test/udon/897795c6a86d87d62db75d6f657deeef.jpg  \n",
            "  inflating: /content/noodles/test/udon/443f34cb8160b125ad1c9f170e70826a.jpg  \n",
            "  inflating: /content/noodles/test/udon/681dbd7f6f6830161fcc16df79aa6e51.jpg  \n",
            "  inflating: /content/noodles/test/udon/275a489410008cd557361aedf99baa01.jpg  \n",
            "  inflating: /content/noodles/test/udon/0543055a3987c79c07b6abdbcd608cd6.jpg  \n",
            "  inflating: /content/noodles/test/udon/3186eead836a284856615892a21a838b.jpg  \n",
            "  inflating: /content/noodles/test/udon/49ac30c1b401b3a9114b959d44e0f19a.jpeg  \n",
            "  inflating: /content/noodles/test/udon/1db222619e3fdaacbb202d55697f3239.jpg  \n",
            "  inflating: /content/noodles/test/udon/018e203f3bb9cfd9b407e90a2f975d30.jpg  \n",
            "  inflating: /content/noodles/test/udon/094c1922e08cbd1fc5c890309a73c91a.jpg  \n",
            "  inflating: /content/noodles/test/udon/7be9256e762d8bd862386b4535c0aff2.jpg  \n",
            "  inflating: /content/noodles/test/udon/e2e8ecf5535d9879a72b4dc8243ebc57.jpg  \n",
            "  inflating: /content/noodles/test/udon/7c4468a6aa852cae048e82bfed7d3a1a.jpg  \n",
            "  inflating: /content/noodles/test/udon/edb0c772b8c8454d1c4bd7e6f3be395d.jpg  \n",
            "  inflating: /content/noodles/test/udon/ca23b889539570fabeb33caa36fdf56e.jpg  \n",
            "  inflating: /content/noodles/test/udon/a14fd66e66989b94de69dd89a3cf0a25.jpg  \n",
            "  inflating: /content/noodles/test/udon/3b2010e3c2fecc6606d20dc2774ad624.jpg  \n",
            "  inflating: /content/noodles/test/udon/4e3fab79b971c91cbb919126930877ce.jpg  \n",
            "  inflating: /content/noodles/test/udon/a500384f3ea859e5efcfc143d2df414b.jpg  \n",
            "  inflating: /content/noodles/test/udon/930418ab4214d41512011c31a4f8cec7.png  \n",
            "  inflating: /content/noodles/test/udon/ef2563e520904a19a12e5d843019f25e.jpg  \n",
            "  inflating: /content/noodles/test/udon/28ae41dae19f483206e20fc6e0264fdd.jpg  \n",
            "  inflating: /content/noodles/test/udon/cf74094e57ae9dcc9eca9fc159b4a296.jpg  \n",
            "  inflating: /content/noodles/test/udon/a2efa2059d55c39baa47c7ca45d9b697.jpg  \n",
            "  inflating: /content/noodles/test/udon/38b02a9289efc61aea8bf97e872bc6c0.jpg  \n",
            "  inflating: /content/noodles/test/udon/59af94ff361e91dd7cb0e33f8656b51b.jpg  \n",
            "  inflating: /content/noodles/test/udon/a26e186e87bcd3735b17622882cda208.jpg  \n",
            "  inflating: /content/noodles/test/udon/e0ba41f0171c4efabc8513a39bd4e1a7.jpg  \n",
            "  inflating: /content/noodles/test/udon/39600145aa3320ef83ee991f67f4c749.jpg  \n",
            "  inflating: /content/noodles/test/udon/9359c0bd137d5987a7e6f7d0bd9b55a2.jpg  \n",
            "  inflating: /content/noodles/test/udon/b8c1917158e26f98f394b44c679aed9e.jpg  \n",
            "  inflating: /content/noodles/test/udon/1babe0df53738f4f83bcb9c1474a5ef9.jpg  \n",
            "  inflating: /content/noodles/test/udon/adf1c9de0b45223f8165a8db42dc61de.jpg  \n",
            "  inflating: /content/noodles/test/udon/6d5fc31852737319fc87ab949fa06862.jpg  \n",
            "  inflating: /content/noodles/test/udon/e26aa9f404e33c365111c9f4d58cc000.jpg  \n",
            "  inflating: /content/noodles/test/udon/7119d9aa22addf299300545b280af3ab.jpg  \n",
            "  inflating: /content/noodles/test/udon/c4a9e78f39ab1f431c6d60cf2b4b4bef.jpg  \n",
            "  inflating: /content/noodles/test/udon/c7930fcc83e9cbb7dc34214492e15600.jpg  \n",
            "  inflating: /content/noodles/test/udon/193cb0cd394e4c52e91575c9c157ac43.jpg  \n",
            "  inflating: /content/noodles/test/udon/723621db1c97b82693a35d5431a9cc0d.jpg  \n",
            "  inflating: /content/noodles/test/udon/2e5ad9f5a166317b5d23dfb4781f4672.jpg  \n",
            "  inflating: /content/noodles/test/udon/d096765557591746e4ca9c34ee2c55e7.jpg  \n",
            "  inflating: /content/noodles/test/udon/f344f99b723941dac10ea83997ffab6f.jpg  \n",
            "  inflating: /content/noodles/test/udon/2e3beb0bb17ffd54d4860776d82f3e21.jpg  \n",
            "  inflating: /content/noodles/test/udon/ab96b5a1c7c62a8e82528aa50af549e2.jpg  \n",
            "  inflating: /content/noodles/test/udon/46cbc332d123ddb153b0628ef826059f.jpg  \n",
            "  inflating: /content/noodles/test/udon/833acdfe1301078324b59c03a4ebff86.jpeg  \n",
            "  inflating: /content/noodles/test/udon/b418dafebde8379e2ed22140c8f058a9.jpg  \n",
            "  inflating: /content/noodles/test/udon/48f84b1bebea7a3391f1c157d63c1b2e.jpg  \n",
            "  inflating: /content/noodles/test/udon/6848ff5f6e2d6f038f6dc88e1f59bc34.jpeg  \n",
            "  inflating: /content/noodles/test/udon/27c78b5a87c9739da972eb765a290b1e.jpg  \n",
            "  inflating: /content/noodles/test/udon/322ca231219402761ed0e0f34c6b295b.jpg  \n",
            "  inflating: /content/noodles/test/udon/ef4cf05027d5262a660a508a97e9906d.jpg  \n",
            "  inflating: /content/noodles/test/udon/fbb613b3faef27e481515e658cd54848.jpg  \n",
            "  inflating: /content/noodles/test/udon/50bcca304cee89a053b228c5576dad9c.jpg  \n",
            "  inflating: /content/noodles/test/udon/cee9bda9a3dec262b7a35db7e832f8ef.jpg  \n",
            "  inflating: /content/noodles/test/udon/d2ade3fcca5d6c54d1aaa416d4860bdf.jpg  \n",
            "  inflating: /content/__MACOSX/noodles/test/._udon  \n",
            " extracting: /content/noodles/test/ramen/Icon  \n",
            "  inflating: /content/__MACOSX/noodles/test/ramen/._Icon  \n",
            "  inflating: /content/noodles/test/ramen/e2c85717b93087fcc88662b9fb95747f.jpg  \n",
            "  inflating: /content/noodles/test/ramen/7b5d8b3db093fb4b23d98a168d41d73f.jpg  \n",
            "  inflating: /content/noodles/test/ramen/2383bac86450c3bb46c6b62a507423e6.jpg  \n",
            "  inflating: /content/noodles/test/ramen/de632653b0c09306a116ef948837ffe1.png  \n",
            "  inflating: /content/noodles/test/ramen/408acc92d11baea1016b4204d5782f3f.jpg  \n",
            "  inflating: /content/noodles/test/ramen/8a79148817c594dcda622e422bc103fc.jpg  \n",
            "  inflating: /content/noodles/test/ramen/ada26289cab51dca6a2702d350fbe833.jpg  \n",
            "  inflating: /content/noodles/test/ramen/153c7e7b56b9bae849ece070733b2a6a.jpg  \n",
            "  inflating: /content/noodles/test/ramen/a635c68e63835740348b58ff2e56122d.jpg  \n",
            "  inflating: /content/noodles/test/ramen/ce6e6cc670b63586be1493d5eb823e2a.jpg  \n",
            "  inflating: /content/noodles/test/ramen/1d7de1c11d82068d417fa6212719351d.jpg  \n",
            "  inflating: /content/noodles/test/ramen/44c4c814e5cf28c768a0e443582965a2.jpg  \n",
            "  inflating: /content/noodles/test/ramen/1bd79b7105de70ed9b48b5a4435b42ae.jpg  \n",
            "  inflating: /content/noodles/test/ramen/d52f1ab67d21dfcc2cf638c8a059676e.jpg  \n",
            "  inflating: /content/noodles/test/ramen/9c570c79477be51de9f77f61acf94899.jpg  \n",
            "  inflating: /content/noodles/test/ramen/9fe1ecba8957e523b7d43d35eccead80.jpg  \n",
            "  inflating: /content/noodles/test/ramen/38dd7604e5e2712dd316ab877902d248.jpg  \n",
            "  inflating: /content/noodles/test/ramen/ab0a4538aa71ec41920f3e2b71f20baa.jpg  \n",
            "  inflating: /content/noodles/test/ramen/84219596dcee3224608b3c36c1165e36.jpg  \n",
            "  inflating: /content/noodles/test/ramen/67e40cb339372ecac612b9d4c46ff94e.jpg  \n",
            "  inflating: /content/noodles/test/ramen/ca328cd5762e153bc94aad292a698da9.jpg  \n",
            "  inflating: /content/noodles/test/ramen/1d83fff74e33fbf5d2a7d8d0c5fd0326.jpg  \n",
            "  inflating: /content/noodles/test/ramen/66dab5ffa877e7aaf95c2080739746db.jpg  \n",
            "  inflating: /content/noodles/test/ramen/99b4744468138755cb5c412ed4e8dd77.jpg  \n",
            "  inflating: /content/noodles/test/ramen/ec5e8d2c9aca33e7843e23e9cc4261ec.jpg  \n",
            "  inflating: /content/noodles/test/ramen/5e25980a3359110472013e9556380c77.jpg  \n",
            "  inflating: /content/noodles/test/ramen/d94c28d03128f2343db0c1b35bac56c0.jpg  \n",
            "  inflating: /content/noodles/test/ramen/7cabcec2706fdb42a78c0cb47731af7f.jpg  \n",
            "  inflating: /content/noodles/test/ramen/6f771fe8522bd509b73f1d3e6e7641a4.jpg  \n",
            "  inflating: /content/noodles/test/ramen/ab999e7927cba2f6f51b9df20a67c8d7.jpg  \n",
            "  inflating: /content/noodles/test/ramen/7de4b0508c5b2f8134d5888261f60f5c.jpg  \n",
            "  inflating: /content/noodles/test/ramen/41911d1ddedd6f8fa2a7acba94fc0f08.jpg  \n",
            "  inflating: /content/noodles/test/ramen/acf4b4622b5b49a566319a81253355b2.png  \n",
            "  inflating: /content/noodles/test/ramen/544515466ae42db645bad4f612b442fd.jpg  \n",
            "  inflating: /content/noodles/test/ramen/cc2959c436cc1397fdff85bba8185587.jpg  \n",
            "  inflating: /content/noodles/test/ramen/3abb20d69900f93c45a5cd55a07312df.jpg  \n",
            "  inflating: /content/noodles/test/ramen/1b7333294e0b362a653ad8d905589ac5.jpg  \n",
            "  inflating: /content/noodles/test/ramen/fc9ac65f249e02d99d39460da418e1af.jpg  \n",
            "  inflating: /content/noodles/test/ramen/e7e0918f6070272b3e93e5f6348f4635.jpg  \n",
            "  inflating: /content/noodles/test/ramen/e5f143c9c3727415e49e94f499d48f26.jpg  \n",
            "  inflating: /content/noodles/test/ramen/f80b2ddb4b14f6ea3ef85abd6e88fc49.jpg  \n",
            "  inflating: /content/noodles/test/ramen/22c3b37c4f3539e50aea167e88ddd5e4.jpg  \n",
            "  inflating: /content/noodles/test/ramen/3230f6a16b08712f41be952749fabe55.jpg  \n",
            "  inflating: /content/noodles/test/ramen/12521618a6169010cfdfa319b2cd66a6.jpg  \n",
            "  inflating: /content/noodles/test/ramen/ddec1788263ecceee76d253dc2198dfb.jpg  \n",
            "  inflating: /content/noodles/test/ramen/007a9f3ee253e4e00e91a86f79d96251.jpg  \n",
            "  inflating: /content/noodles/test/ramen/7d15a859d3136560851aed4a43944961.jpg  \n",
            "  inflating: /content/noodles/test/ramen/231215faed7714dcd205488c7af4f897.jpg  \n",
            "  inflating: /content/noodles/test/ramen/d496b4f47c4377ca0476b164f1d29a42.jpg  \n",
            "  inflating: /content/noodles/test/ramen/1e36d36cf17134c374495631f9b49b3f.jpg  \n",
            "  inflating: /content/noodles/test/ramen/a508fa7baee7f750ad3de30445c72581.jpg  \n",
            "  inflating: /content/noodles/test/ramen/757c5a102812a257be80e313b2156c0b.jpg  \n",
            "  inflating: /content/noodles/test/ramen/17af3bc8bc391b627aadf472f54a1951.jpg  \n",
            "  inflating: /content/noodles/test/ramen/ac6bdfc157d9c71101a452814a1fdf7b.jpg  \n",
            "  inflating: /content/noodles/test/ramen/38f18e0d8c32a1be704b5b48fa1c30eb.jpg  \n",
            "  inflating: /content/noodles/test/ramen/dd7894ccfc810c452a8c8f554a46313a.jpg  \n",
            "  inflating: /content/noodles/test/ramen/cbfdb61cce0dfda3efbd102f7a7331f9.jpg  \n",
            "  inflating: /content/noodles/test/ramen/e5488ee9645b608ea0deb1c783ab1ec7.jpg  \n",
            "  inflating: /content/noodles/test/ramen/c59e90568c2fee38a1137d644ae4ef29.jpg  \n",
            "  inflating: /content/noodles/test/ramen/bab56ed1f7e02f7c0822e9479bf63131.jpg  \n",
            "  inflating: /content/noodles/test/ramen/11cb359269c9b59de1c150e4a21b6266.jpg  \n",
            "  inflating: /content/noodles/test/ramen/469e1f25a95aeca3656381aae3576b21.jpg  \n",
            "  inflating: /content/noodles/test/ramen/4c3f69b06bf33efd5102e8b03b0a8d5b.jpg  \n",
            "  inflating: /content/noodles/test/ramen/48cc3a68bb0c4bc3aea1de611f6a1574.jpg  \n",
            "  inflating: /content/noodles/test/ramen/47feff108dc22a9c771a73eccf9d7708.jpg  \n",
            "  inflating: /content/noodles/test/ramen/aca2d0b6aa28df77dc3241dae8ec978a.jpg  \n",
            "  inflating: /content/noodles/test/ramen/8f920d81a0239f74b82161103c8f7e21.jpg  \n",
            "  inflating: /content/noodles/test/ramen/6c355882ae71865c8dbe11d0d2e8c434.jpg  \n",
            "  inflating: /content/noodles/test/ramen/e4d8076e14beab557f0c69930a63e334.jpg  \n",
            "  inflating: /content/noodles/test/ramen/545c966d24b846339329c0d4e8ecdce6.jpg  \n",
            "  inflating: /content/noodles/test/ramen/b3d7943091f2c05e0bee6801a66ec045.jpg  \n",
            "  inflating: /content/noodles/test/ramen/a932a4ccf0e9a4a8021f43c5dc8504ef.jpg  \n",
            "  inflating: /content/noodles/test/ramen/a9fddc8b53fa6bdc3f323c1352ab027b.jpg  \n",
            "  inflating: /content/noodles/test/ramen/76850604dca7767d064a2e5524c7ce13.jpg  \n",
            "  inflating: /content/noodles/test/ramen/fec26035e17d545548e946eb705215da.jpg  \n",
            "  inflating: /content/noodles/test/ramen/e42e420835939d10f1a9e483a0520a73.jpg  \n",
            "  inflating: /content/noodles/test/ramen/d33baf518079d6e49e107733ddaf1dea.jpg  \n",
            "  inflating: /content/noodles/test/ramen/449d43b24e09a419020006325d785388.jpg  \n",
            "  inflating: /content/noodles/test/ramen/514b5809a5f66835745e999ba61f0aa2.jpg  \n",
            "  inflating: /content/noodles/test/ramen/047a34512b2f554df476f924956d9324.jpg  \n",
            "  inflating: /content/noodles/test/ramen/33d860a7e5f160626f2f45a4acdbf8d1.jpg  \n",
            "  inflating: /content/noodles/test/ramen/2dfc225450af5b4d99b47add20cabaf9.jpg  \n",
            "  inflating: /content/noodles/test/ramen/59bde0bd738db00d20c86a4da09fa5cb.jpg  \n",
            "  inflating: /content/noodles/test/ramen/eb98facfd5c61613c3f3e5679f07df2e.jpg  \n",
            "  inflating: /content/noodles/test/ramen/c0d5ed4d860c505f5d2214715361c51d.jpg  \n",
            "  inflating: /content/noodles/test/ramen/24f193f66f503627e01099edbd4dffc1.jpg  \n",
            "  inflating: /content/noodles/test/ramen/17e94d39cc9cc342b4a83f6f7ee44fb8.jpg  \n",
            "  inflating: /content/noodles/test/ramen/4ad07741fb2fc5449dbe931d89c7005b.jpg  \n",
            "  inflating: /content/noodles/test/ramen/5e93419f1b08a7e869a4e8eb01d910c3.jpg  \n",
            "  inflating: /content/noodles/test/ramen/6cf4f13f6ea24022c3ba6950d31c6d0b.jpg  \n",
            "  inflating: /content/noodles/test/ramen/01b2931a076face741042e491d03d03c.jpg  \n",
            "  inflating: /content/noodles/test/ramen/e54921bd0c21a3171475632bc7b99d0c.jpg  \n",
            "  inflating: /content/noodles/test/ramen/f6415d68392e45b3eff87f1f5be81b61.jpg  \n",
            "  inflating: /content/noodles/test/ramen/d0520333feb4360529d2f5b5548c36b6.jpg  \n",
            "  inflating: /content/noodles/test/ramen/2856080b18ff8c49c609bbef01c89e07.jpg  \n",
            "  inflating: /content/noodles/test/ramen/d0d49c8b59668bd4873ee51fa75a7864.jpg  \n",
            "  inflating: /content/noodles/test/ramen/667ee667aa58f7be4b66d2ffd2a4e126.jpg  \n",
            "  inflating: /content/noodles/test/ramen/8ff09b1a7d3f9e1fea228b8d057ff43c.jpg  \n",
            "  inflating: /content/noodles/test/ramen/13173364c28f03d0f0e7acecb8035a9e.jpg  \n",
            "  inflating: /content/noodles/test/ramen/e0f23b0c73eb3b4d68204bb723e532c9.jpg  \n",
            "  inflating: /content/__MACOSX/noodles/test/._ramen  \n",
            "  inflating: /content/__MACOSX/noodles/._test  \n",
            "  inflating: /content/noodles/train/.DS_Store  \n",
            "  inflating: /content/__MACOSX/noodles/train/._.DS_Store  \n",
            " extracting: /content/noodles/train/Icon  \n",
            "  inflating: /content/__MACOSX/noodles/train/._Icon  \n",
            "  inflating: /content/noodles/train/udon/7391cd168f7f60e421679d616464d5f5.jpg  \n",
            "  inflating: /content/noodles/train/udon/76c7327e76b4aa2035399bb96fef646f.jpg  \n",
            "  inflating: /content/noodles/train/udon/0af93ba378c0c6904b0e5c3a29030cc6.jpg  \n",
            "  inflating: /content/noodles/train/udon/91644606a2de02db3c5a2e1c54ffa2b1.jpg  \n",
            "  inflating: /content/noodles/train/udon/6729f4e84b7ca57663c9b79e9893f20d.jpg  \n",
            "  inflating: /content/noodles/train/udon/b1891d5c63fc46575c03bddfab1c7f62.jpg  \n",
            "  inflating: /content/noodles/train/udon/d847da61399d9feb874f27d939d96ab6.jpg  \n",
            "  inflating: /content/noodles/train/udon/2faeceedac956251f9392d95c854e5ef.jpg  \n",
            "  inflating: /content/noodles/train/udon/4e9c1aef19b758801898b00bc7e1bed8.jpg  \n",
            "  inflating: /content/noodles/train/udon/c115ce44826e21800fa6aef5bf106fe7.jpg  \n",
            "  inflating: /content/noodles/train/udon/c8c11c10467c6cef555256b38b270cb3.jpg  \n",
            "  inflating: /content/noodles/train/udon/e5daf707210b2c270666341384580c7c.jpg  \n",
            "  inflating: /content/noodles/train/udon/3721c7020af662d017bac36bceca8eee.jpg  \n",
            "  inflating: /content/noodles/train/udon/19e741a6366ae23156378990eb9cf7df.jpg  \n",
            "  inflating: /content/noodles/train/udon/23d96b8a943eb4a32f7a59cd1692bb19.jpg  \n",
            "  inflating: /content/noodles/train/udon/963186aaef81f08402de7b92da17f826.jpg  \n",
            "  inflating: /content/noodles/train/udon/faf06d76e43a497f8404a2afcbba1817.jpg  \n",
            "  inflating: /content/noodles/train/udon/3034559f82f6aae32a72221e9896bd35.jpg  \n",
            "  inflating: /content/noodles/train/udon/c35f7f6ddfc21db41caeef92c495ca54.jpg  \n",
            "  inflating: /content/noodles/train/udon/ba634b0b73e4600ee10192de5a4866d6.jpg  \n",
            "  inflating: /content/noodles/train/udon/0915d2979172b73d4ac7b8c64a6b7cc0.jpg  \n",
            "  inflating: /content/noodles/train/udon/cff03719db4df3e68f466c775ebe85ae.jpg  \n",
            "  inflating: /content/noodles/train/udon/82712cc76095e5c1ac6861f230af1ae5.jpg  \n",
            "  inflating: /content/noodles/train/udon/f92c575958388410904b5c943cd64dbb.jpg  \n",
            "  inflating: /content/noodles/train/udon/af3d71505cddea35c861ff6bbc2a386b.jpg  \n",
            "  inflating: /content/noodles/train/udon/047262dd8a3f5e1822aa10a828fd6433.jpg  \n",
            "  inflating: /content/noodles/train/udon/3d37edff77e3a07ac527e7389e1cc7e4.jpg  \n",
            "  inflating: /content/noodles/train/udon/4d51dbbbaf0047f9c3b4cb4986b8f2ff.jpg  \n",
            "  inflating: /content/noodles/train/udon/d15cb9ec8c481fb0da23afb2c4b79de3.jpg  \n",
            "  inflating: /content/noodles/train/udon/1164df37486f92befa2e91f3467fd9ab.jpg  \n",
            "  inflating: /content/noodles/train/udon/2d2f9d5e3466026b3dc51dc02b1ccc29.jpg  \n",
            "  inflating: /content/noodles/train/udon/b52fc8b839b10cad76aed1811be8ad7d.jpg  \n",
            "  inflating: /content/noodles/train/udon/534f2cf782691e6151c05ae022cfd6f2.jpg  \n",
            "  inflating: /content/noodles/train/udon/ed5794cea12acb9dc463766cf3ba0952.jpg  \n",
            "  inflating: /content/noodles/train/udon/ba671911b7859d5a014e7ed277ac4170.jpg  \n",
            "  inflating: /content/noodles/train/udon/d86eda2034fdfa4f5a5431ed949b9853.jpg  \n",
            "  inflating: /content/noodles/train/udon/dac166823c7d1e06e2cfcf0d7621d66e.jpg  \n",
            "  inflating: /content/noodles/train/udon/b44e78734a5d136d1233b925ee2dd56c.jpg  \n",
            "  inflating: /content/noodles/train/udon/69dc77dd02ee8ab7d294157aa539bde4.jpg  \n",
            "  inflating: /content/noodles/train/udon/33d94cc66e082cce30c01de0506367a9.jpg  \n",
            "  inflating: /content/noodles/train/udon/345452ae6b0d7a278677e9b90e05a689.jpg  \n",
            "  inflating: /content/noodles/train/udon/f87674e34879372253de4187194855d8.jpg  \n",
            "  inflating: /content/noodles/train/udon/9d578060af8438727d706c88a39074fa.jpg  \n",
            "  inflating: /content/noodles/train/udon/0b7930c60277b2872e444db4d16adc6b.jpg  \n",
            "  inflating: /content/noodles/train/udon/c15acf0a6fad8194acce8086a5a977c3.jpg  \n",
            "  inflating: /content/noodles/train/udon/3319d61603bc530b03b9a6b6a2f31b55.jpg  \n",
            "  inflating: /content/noodles/train/udon/fe54481819d7122b7521cd304cc81b6b.jpg  \n",
            "  inflating: /content/noodles/train/udon/aad8356d3bbb708136df2ecafebca89c.jpg  \n",
            "  inflating: /content/noodles/train/udon/f60a5b0e92f195bec374768092519b7a.jpg  \n",
            "  inflating: /content/noodles/train/udon/33cf1d23fa07ffd1063590acfcedf422.jpg  \n",
            "  inflating: /content/noodles/train/udon/5613c06bc6afde7e3b55bb40545a2104.jpg  \n",
            "  inflating: /content/noodles/train/udon/3ecfa22d22059f107a086fab1f847b54.jpg  \n",
            "  inflating: /content/noodles/train/udon/c37856fc35279c3d13a9a3903337b11b.jpg  \n",
            "  inflating: /content/noodles/train/udon/e149f1c12ecc3db8a52b1a82ecece8c9.jpg  \n",
            "  inflating: /content/noodles/train/udon/b76727cb56831ae3d459f05cbd8a7f85.jpg  \n",
            "  inflating: /content/noodles/train/udon/456ca28f84503dbae32ec4032b05d54f.jpg  \n",
            "  inflating: /content/noodles/train/udon/2984e733d6d080053cb1fda144a4de5c.jpg  \n",
            "  inflating: /content/noodles/train/udon/28ed68deb66fb432e4466329f4403c11.jpg  \n",
            "  inflating: /content/noodles/train/udon/661464553f938a94ceec5affb84543b8.jpg  \n",
            "  inflating: /content/noodles/train/udon/f22d3ca84f6ed703024eca8e054ba9a3.jpg  \n",
            "  inflating: /content/noodles/train/udon/be3a022cd32d5aa39e1081f2ab9cf61b.jpg  \n",
            "  inflating: /content/noodles/train/udon/bb33b95a687f7372fc8e188b334c8685.jpg  \n",
            "  inflating: /content/noodles/train/udon/c6efe127507d23096b7b180547334d79.jpg  \n",
            "  inflating: /content/noodles/train/udon/ddf4a278e512bae0809d8f28427308cf.jpg  \n",
            "  inflating: /content/noodles/train/udon/81866b565aae7f85e496249d3085a925.jpg  \n",
            "  inflating: /content/noodles/train/udon/609f472176407855bb2b2024a4019433.jpg  \n",
            "  inflating: /content/noodles/train/udon/a5f493e20d84a43f35f37d49aa0478df.jpg  \n",
            "  inflating: /content/noodles/train/udon/7e88ff2e2e0808abb504dc7cd51e4649.jpg  \n",
            "  inflating: /content/noodles/train/udon/b649f2f99a0dc1505ec2f8717e553d31.jpg  \n",
            "  inflating: /content/noodles/train/udon/0c3ef2d997fe1123cc7652480dc59a27.jpg  \n",
            "  inflating: /content/noodles/train/udon/3a0ccb585ad3544bd1880e07f43e354c.jpg  \n",
            "  inflating: /content/noodles/train/udon/4264271d8efaa4ed9c4e29518f4e3fb0.jpg  \n",
            "  inflating: /content/noodles/train/udon/17e6b7a23e1e61d18367de1b42d1c323.jpg  \n",
            "  inflating: /content/noodles/train/udon/a303e255f85d56b3dc39929d28afd782.jpg  \n",
            "  inflating: /content/noodles/train/udon/279b377e44d541fdd939b172d8e2eef0.jpg  \n",
            "  inflating: /content/noodles/train/udon/3b5b120d94daddeec5466b68230bd77f.jpg  \n",
            "  inflating: /content/noodles/train/udon/ed9b7ea82375e85db8a6550889e4ca82.jpg  \n",
            "  inflating: /content/noodles/train/udon/27fbf27cfd112cf52834966f2c40045b.jpg  \n",
            "  inflating: /content/noodles/train/udon/cc1fa2751addd3b067f06de17f0c4a78.jpg  \n",
            "  inflating: /content/noodles/train/udon/51f8062c1df5f46299826d58f38311e2.jpg  \n",
            "  inflating: /content/noodles/train/udon/ac02f1a1e86f310afab14eb4827b7748.jpg  \n",
            "  inflating: /content/noodles/train/udon/d3a50e246ceacebaff43c0dc6a56644d.jpg  \n",
            "  inflating: /content/noodles/train/udon/aabf557c9fa2e418e8de28eb0dd059ae.jpg  \n",
            "  inflating: /content/noodles/train/udon/45e85150c4937150888ace9484dee8a8.jpg  \n",
            "  inflating: /content/noodles/train/udon/cfa56522374b8033dcaa14c4b64cb3b5.jpg  \n",
            "  inflating: /content/noodles/train/udon/e6ea92ec80ae07572d30570e14f72569.jpg  \n",
            "  inflating: /content/noodles/train/udon/56ad7e651b35a59359391a506ad7f53c.jpg  \n",
            "  inflating: /content/noodles/train/udon/edcd775f5ab3eed18611a2406821aae5.jpg  \n",
            "  inflating: /content/noodles/train/udon/843636250b0214cb6ac7bf3982b4ddae.jpg  \n",
            "  inflating: /content/noodles/train/udon/97026650a383de8d98ec89b1fa132e46.jpg  \n",
            "  inflating: /content/noodles/train/udon/da9723230b9802ef5c18f644fd60588f.jpg  \n",
            "  inflating: /content/noodles/train/udon/81b8505dff02b8a479e8d96cc005757f.jpg  \n",
            "  inflating: /content/noodles/train/udon/187be855e6270f7a3138280b52a72b9e.jpg  \n",
            "  inflating: /content/noodles/train/udon/4cf0d48dfefad88d29e09639a426fe18.jpg  \n",
            "  inflating: /content/noodles/train/udon/5b9ff467d7d65f021a01176c471a5173.jpg  \n",
            "  inflating: /content/noodles/train/udon/fd1d9582a16b65a04c9143d4f52f6d57.jpg  \n",
            "  inflating: /content/noodles/train/udon/6292b0edd826db298793271e67b461d1.jpg  \n",
            "  inflating: /content/noodles/train/udon/235a9b9e567840656c76ecd4b639de3d.jpg  \n",
            "  inflating: /content/noodles/train/udon/91e34b607aedcb8891285b896127d5e7.jpg  \n",
            " extracting: /content/noodles/train/udon/Icon  \n",
            "  inflating: /content/__MACOSX/noodles/train/udon/._Icon  \n",
            "  inflating: /content/noodles/train/udon/a2aad86bc196cff6d2a36a12ddc614cb.jpeg  \n",
            "  inflating: /content/noodles/train/udon/dc58d3f644699e128287b6f8540500d7.jpg  \n",
            "  inflating: /content/noodles/train/udon/433cff370eac0fa45f73d1235d2fa91a.jpg  \n",
            "  inflating: /content/noodles/train/udon/cd81111c6ecd1d5e4f0622a64d93adc9.jpg  \n",
            "  inflating: /content/noodles/train/udon/4a31e4319bdf12b4b294347297955b28.jpg  \n",
            "  inflating: /content/noodles/train/udon/f14cffcb7c4d8c1e24d8a7785c6a167d.jpg  \n",
            "  inflating: /content/noodles/train/udon/34772faa585ede2be192bb5842a5c0b4.jpg  \n",
            "  inflating: /content/noodles/train/udon/4d56981a7d9a454afc74564892140e76.jpg  \n",
            "  inflating: /content/noodles/train/udon/f1b7c5daa43045fd8ebf01f07cc9ac2e.jpg  \n",
            "  inflating: /content/noodles/train/udon/90b2f261177a711171fa2a95a740e90b.jpg  \n",
            "  inflating: /content/noodles/train/udon/7cab519287f86af40550969e189423ca.jpg  \n",
            "  inflating: /content/noodles/train/udon/5922c8db6925a718e0425107d2acf8b1.jpg  \n",
            "  inflating: /content/noodles/train/udon/b9260526a11a5fc40038c30172ea9475.jpg  \n",
            "  inflating: /content/noodles/train/udon/9c640b0463c8f89f401ee93f999fd9cf.jpg  \n",
            "  inflating: /content/noodles/train/udon/9ed0a0aaa873b4bf9548d46a46e518ef.jpg  \n",
            "  inflating: /content/noodles/train/udon/5ce44e05c435cab26aee64d3e1c5720a.jpg  \n",
            "  inflating: /content/noodles/train/udon/0894c853265751a2a4fec7f2588a4b18.jpg  \n",
            "  inflating: /content/noodles/train/udon/ff7970c044d08c8bf966c6bc06cdf113.jpg  \n",
            "  inflating: /content/noodles/train/udon/f1f5befdbbae5cbb9e04fb707bae3c28.jpg  \n",
            "  inflating: /content/noodles/train/udon/7f407546dc2cedf98723f53a5fa2b2d6.jpg  \n",
            "  inflating: /content/noodles/train/udon/65879f8ce636e1046f6733e455a29701.jpg  \n",
            "  inflating: /content/noodles/train/udon/dfe0b44e228451f5ef7ac9ca4a345e11.jpg  \n",
            "  inflating: /content/noodles/train/udon/6396e2db15699cca7aed4b0e02d5bd9d.jpg  \n",
            "  inflating: /content/noodles/train/udon/45bf46bd77a46c91e3ca12b816e29fda.jpg  \n",
            "  inflating: /content/noodles/train/udon/4b19e560b7fa61e9216e7c93135779f7.jpg  \n",
            "  inflating: /content/noodles/train/udon/d68b556d90ab47f6102edcbfcab5334b.jpg  \n",
            "  inflating: /content/noodles/train/udon/d7a41da2bc182db48b48653440925f77.png  \n",
            "  inflating: /content/noodles/train/udon/437bcb6874b48a95625380b1f8e431b6.jpg  \n",
            "  inflating: /content/noodles/train/udon/8501902c64ed424b408fc707c262f142.jpg  \n",
            "  inflating: /content/noodles/train/udon/86031faf8a3c8612ce10a0c50cc9f100.jpg  \n",
            "  inflating: /content/noodles/train/udon/b91ccee8c5cdc76dde74204484fe02e2.jpg  \n",
            "  inflating: /content/noodles/train/udon/1aa97cf0c3a93ae9ac3ed07603b8b0af.jpg  \n",
            "  inflating: /content/noodles/train/udon/95c7635a730e14ef4b312b866d4967ff.jpg  \n",
            "  inflating: /content/noodles/train/udon/ac35a6a0cc7229cd9e9e3cc3baf67709.jpg  \n",
            "  inflating: /content/noodles/train/udon/7bcd55fecfeffe6ceddbba3b8fd392b6.jpg  \n",
            "  inflating: /content/noodles/train/udon/4f82ac5bf1efcd3fb3da48ec5d1a33ad.jpeg  \n",
            "  inflating: /content/noodles/train/udon/efb6a2641c97122c8e1d87639e9871a0.jpg  \n",
            "  inflating: /content/noodles/train/udon/bb87644014a8498e1e3088e8e90eae9d.jpg  \n",
            "  inflating: /content/noodles/train/udon/097d0024bafe2886f3c3af595d5a22e0.jpg  \n",
            "  inflating: /content/noodles/train/udon/ed27caa31e3850ccd77e210b33d396fa.jpg  \n",
            "  inflating: /content/noodles/train/udon/7d3c54ca77509e814f3218151dbce30e.jpg  \n",
            "  inflating: /content/noodles/train/udon/2a49c319d0e01fefef801cf05f188835.jpg  \n",
            "  inflating: /content/noodles/train/udon/feaf8efbb0199615cefb379bd0c15694.jpg  \n",
            "  inflating: /content/noodles/train/udon/6daf13a41ffb08a4d0a091eddc163a93.jpg  \n",
            "  inflating: /content/noodles/train/udon/9345829e566291a909f6c6213abb89ba.jpg  \n",
            "  inflating: /content/noodles/train/udon/2946ff1e69e2d0d95137fa135a0fa299.jpg  \n",
            "  inflating: /content/noodles/train/udon/811ec6f5ada05ad3eefe4132618a67ae.jpeg  \n",
            "  inflating: /content/noodles/train/udon/ec354b9516c7f4dc671cf1c09443464a.jpg  \n",
            "  inflating: /content/noodles/train/udon/6642c0c62610a994973847569859c027.jpg  \n",
            "  inflating: /content/noodles/train/udon/fa00f08c63973e8c9f7e39ba1db3c6e9.jpg  \n",
            "  inflating: /content/noodles/train/udon/e5256043af0d55e9799e160c7ec60c82.jpg  \n",
            "  inflating: /content/noodles/train/udon/e6f448ad12127f4810842134aff9e76f.jpg  \n",
            "  inflating: /content/noodles/train/udon/7671c1f8d0ab42aa370e582bd2747d11.jpg  \n",
            "  inflating: /content/noodles/train/udon/1d800eb9e13931f14898aab3a503673d.jpg  \n",
            "  inflating: /content/noodles/train/udon/09a1698c72cd12f40a551d6a9e7ffcca.jpg  \n",
            "  inflating: /content/noodles/train/udon/fb13707fda717962c27ed1ee4576c71e.jpg  \n",
            "  inflating: /content/noodles/train/udon/9a292756fbce6dbc19933793db594b14.jpg  \n",
            "  inflating: /content/noodles/train/udon/68fbbd729767183a6f3e7da997cfa34e.jpg  \n",
            "  inflating: /content/noodles/train/udon/a825eeb7c76dcab88e7b7a33634591ac.jpg  \n",
            "  inflating: /content/noodles/train/udon/5f0dadd4c506a638478f1081ea9d9ea0.jpg  \n",
            "  inflating: /content/noodles/train/udon/ec507eb975f8b60c157c48ff7487e057.jpg  \n",
            "  inflating: /content/noodles/train/udon/5b5b147962eea8fed2461ffabf6da1c3.jpg  \n",
            "  inflating: /content/noodles/train/udon/0e961d93c04ceeb6ecfda1f5bbeb9020.jpg  \n",
            "  inflating: /content/noodles/train/udon/d9f56f8d7e89efa675ab9a41b58383cd.jpg  \n",
            "  inflating: /content/noodles/train/udon/c0662921c897f73e601d2f9e4a91995e.jpg  \n",
            "  inflating: /content/noodles/train/udon/1de976b68d5ff0e115fa21b816c9d36f.jpg  \n",
            "  inflating: /content/noodles/train/udon/0a9fe61ceaad018373bdbaeffcf63bc7.jpg  \n",
            "  inflating: /content/noodles/train/udon/5d3ac979dd95a6a070ee198adcb82260.jpg  \n",
            "  inflating: /content/noodles/train/udon/36d42a987ec646927d9111aee3283ddf.jpg  \n",
            "  inflating: /content/noodles/train/udon/a8669c85daa544f82243b6826ba13cd1.png  \n",
            "  inflating: /content/noodles/train/udon/8e203b1fbc75f37562be3ef8395fd520.jpg  \n",
            "  inflating: /content/noodles/train/udon/a6102175e305fea3fd97e7fe2163d768.jpg  \n",
            "  inflating: /content/noodles/train/udon/258b22f6656f9adb172102e3116d1124.jpg  \n",
            "  inflating: /content/noodles/train/udon/7b0b6ab48068c54992bd6a1aa7b4c04c.jpg  \n",
            "  inflating: /content/noodles/train/udon/43e2ecd64534531eb6df046f7f90e888.jpg  \n",
            "  inflating: /content/noodles/train/udon/a1771731a8a83f8a623fbc2638fa9b35.jpg  \n",
            "  inflating: /content/noodles/train/udon/02608a29fe16132807e9cbfc15a40703.jpg  \n",
            "  inflating: /content/noodles/train/udon/28b296ffbe62a5857d876b51c0bf6756.jpg  \n",
            "  inflating: /content/noodles/train/udon/72be29bf90317bdf26c245c120eb3f5b.jpg  \n",
            "  inflating: /content/noodles/train/udon/59ab3f11d7d72f87c16000584ecd58c2.jpg  \n",
            "  inflating: /content/noodles/train/udon/0afd56324b6ca12b9e18664fc7559944.jpg  \n",
            "  inflating: /content/noodles/train/udon/0ea5a14f87ce982cdd19098fefd0aad3.jpg  \n",
            "  inflating: /content/noodles/train/udon/d419e1c701d7ed5ac20d5a66393165b1.jpg  \n",
            "  inflating: /content/noodles/train/udon/795900ad96676c427ef086e49cd51645.jpg  \n",
            "  inflating: /content/noodles/train/udon/e8b58f5388f5f5f58253950c2bda48f1.jpg  \n",
            "  inflating: /content/noodles/train/udon/68d55b919fa8453311ed03da64684829.jpg  \n",
            "  inflating: /content/noodles/train/udon/9f7d474d0c4785b9cc326706ea594c76.jpg  \n",
            "  inflating: /content/noodles/train/udon/06f79b9a3fef89db47716000aa449daa.jpg  \n",
            "  inflating: /content/noodles/train/udon/bf730e74782b8e7b008c601cd0b6fe7f.jpg  \n",
            "  inflating: /content/noodles/train/udon/cb75290011ed3aae9be5550d7b340604.jpg  \n",
            "  inflating: /content/noodles/train/udon/42baf936133ac353898f2bb16e63ab22.jpg  \n",
            "  inflating: /content/noodles/train/udon/841b9b52052d02f4eea0a9d82012c55d.jpg  \n",
            "  inflating: /content/noodles/train/udon/4403999514d81a01688508962f2e762b.jpg  \n",
            "  inflating: /content/noodles/train/udon/025e6f3e0c0426c4b88737621854453f.jpg  \n",
            "  inflating: /content/noodles/train/udon/e5f82bc70df5105e6905d715a25a06e1.jpg  \n",
            "  inflating: /content/noodles/train/udon/7ef637ab6223064ad675bd68b18e1a4a.jpg  \n",
            "  inflating: /content/noodles/train/udon/d29dfe5f1443fd25dbd8bda9f3fef541.jpg  \n",
            "  inflating: /content/noodles/train/udon/479cf62e1b7f2f957d9d6058d26710e5.jpg  \n",
            "  inflating: /content/noodles/train/udon/c7cce34061bbb1422de23bdc67d496fb.jpg  \n",
            "  inflating: /content/noodles/train/udon/210e70c914c5ee52da8726872975842a.jpg  \n",
            "  inflating: /content/noodles/train/udon/b57e591c14ca6d096f52d0743c80c5cb.jpg  \n",
            "  inflating: /content/noodles/train/udon/20aae147eabb263ddf4d0af048dc8225.jpg  \n",
            "  inflating: /content/noodles/train/udon/eaf64cfa1d6ddb98bf63d7ea28fe065c.jpg  \n",
            "  inflating: /content/noodles/train/udon/9545afd18f608808b6c9cb128e1852cf.jpg  \n",
            "  inflating: /content/noodles/train/udon/c8ab3323a330e2496ccdf8e3903b44ed.jpg  \n",
            "  inflating: /content/noodles/train/udon/8b0a499e7539430e7ab5fefcf47fc0f0.jpg  \n",
            "  inflating: /content/noodles/train/udon/b6260f6730f041d4ad66f0fbbc94d559.jpg  \n",
            "  inflating: /content/noodles/train/udon/742144707021a2ae7594624174cd60c7.jpg  \n",
            "  inflating: /content/noodles/train/udon/20c6857e7fae6603dbc3210be17bb13c.jpg  \n",
            "  inflating: /content/noodles/train/udon/f194993743eabc97e5ec2f0205487048.jpg  \n",
            "  inflating: /content/noodles/train/udon/7ee9c3600d89253bf0cbeca2faf288fa.jpg  \n",
            "  inflating: /content/noodles/train/udon/a12f4098f3b35c51da6caaad3efe3eb6.jpg  \n",
            "  inflating: /content/noodles/train/udon/f3aa17501b8cf8ec24641330ad4862aa.jpg  \n",
            "  inflating: /content/noodles/train/udon/1380b6e1f9c619455f88f0c2e4cf0712.jpg  \n",
            "  inflating: /content/noodles/train/udon/ffc2c8ae02b6e8f5dadc7b5ebc32f711.jpg  \n",
            "  inflating: /content/noodles/train/udon/fd7bab23d60eb717debb1659edcbe4be.jpg  \n",
            "  inflating: /content/noodles/train/udon/d23b49f5b41efe8c95ba5a5e5d8e7980.jpg  \n",
            "  inflating: /content/noodles/train/udon/5b469653b92f25107a2aeec4aa4041d4.jpg  \n",
            "  inflating: /content/noodles/train/udon/54212ae2bed1fc2fddfd81074bd1c85b.jpg  \n",
            "  inflating: /content/noodles/train/udon/22f3c67ff9ace27d9cc8c860ad4c54fd.jpg  \n",
            "  inflating: /content/noodles/train/udon/5f5467dd5f24310110bcd2c13c105d77.jpg  \n",
            "  inflating: /content/noodles/train/udon/c3047b7dd8b522f81f2aa577a8937def.jpg  \n",
            "  inflating: /content/noodles/train/udon/d49534fae6f6864feaec4690aa69a707.jpg  \n",
            "  inflating: /content/noodles/train/udon/8f48e6f09287122d9516f23b27d93422.jpg  \n",
            "  inflating: /content/noodles/train/udon/bea833c1f57e892f8bc528ca6c6da66a.jpg  \n",
            "  inflating: /content/noodles/train/udon/085320f1d794ef1fab8485c5a28c9726.jpg  \n",
            "  inflating: /content/noodles/train/udon/926c237c36d013125f94d01bdc700de1.jpg  \n",
            "  inflating: /content/noodles/train/udon/a7d58bc77b3c5b9ddeac06313a5b7cc1.jpg  \n",
            "  inflating: /content/noodles/train/udon/6141bd3d8d4f988d76f8f077a3dc5af0.jpg  \n",
            "  inflating: /content/noodles/train/udon/e00c0ad7d6babce26f48db37401b86aa.jpg  \n",
            "  inflating: /content/noodles/train/udon/4e819875646f949d58ea5793f2c827e1.jpg  \n",
            "  inflating: /content/noodles/train/udon/e03346da2af235aac3702ec68a09387d.jpg  \n",
            "  inflating: /content/noodles/train/udon/f2399c9773b49f5ee44d90c7e7f39423.jpg  \n",
            "  inflating: /content/noodles/train/udon/97e216cff175e919b63c49888a3ef87f.jpg  \n",
            "  inflating: /content/noodles/train/udon/d12d03e343f858290665129e886ff3e6.jpg  \n",
            "  inflating: /content/noodles/train/udon/ce0c96104fd94c3f183d65ee22bc95b4.jpg  \n",
            "  inflating: /content/noodles/train/udon/34b98c6a565a7261661dfd07716c52a3.jpg  \n",
            "  inflating: /content/noodles/train/udon/1ab86ced42dd53f1b822a795242b888f.jpg  \n",
            "  inflating: /content/noodles/train/udon/88aa9c459ad7cd1268ce2e8ca4824565.jpg  \n",
            "  inflating: /content/noodles/train/udon/038d39af3f843334906a0c559c2eeb64.jpg  \n",
            "  inflating: /content/noodles/train/udon/bbe81e9eb837a42d9e50580ffbf45550.jpg  \n",
            "  inflating: /content/noodles/train/udon/183139fbfc9887dd0e5041ed73a490c7.jpg  \n",
            "  inflating: /content/noodles/train/udon/b7b01443b12f2984dc7fd521985576f2.jpg  \n",
            "  inflating: /content/noodles/train/udon/5020da0fecd218036f2c3e853a5454be.jpg  \n",
            "  inflating: /content/noodles/train/udon/10dedf747a25e6f5181b2d5e24882abe.jpg  \n",
            "  inflating: /content/noodles/train/udon/e52993aba81ab0744b7fdca328b75806.jpg  \n",
            "  inflating: /content/noodles/train/udon/d60529bc5ec0f2611ddea63123c69f40.jpg  \n",
            "  inflating: /content/noodles/train/udon/deb6c66f194e088906734ef85212bb85.jpg  \n",
            "  inflating: /content/noodles/train/udon/99199442064771913318d509739757e0.jpg  \n",
            "  inflating: /content/noodles/train/udon/8f698fc232582a050c06a5934115bb73.jpg  \n",
            "  inflating: /content/noodles/train/udon/f5fa52a4ef369d70930666bca1b7b3b0.jpg  \n",
            "  inflating: /content/noodles/train/udon/60c762c99f4873da95cd49cf32b976f8.jpg  \n",
            "  inflating: /content/noodles/train/udon/c2db67991a73701f8acc701d4133868c.jpg  \n",
            "  inflating: /content/noodles/train/udon/65139ba7998d6c670a3cc8de44e6d10f.jpg  \n",
            "  inflating: /content/noodles/train/udon/4b89d0f89e432e1c6ab5cd53e4704a53.jpg  \n",
            "  inflating: /content/noodles/train/udon/27a0321985c6481f92df927e01807243.jpg  \n",
            "  inflating: /content/noodles/train/udon/b43f95fa4761bc1170625452c67fafca.jpg  \n",
            "  inflating: /content/noodles/train/udon/2e6483f2aae909d8e39e3b4f398032e8.jpg  \n",
            "  inflating: /content/noodles/train/udon/de7e4ef678130bbcfbc1f00b18e50887.jpg  \n",
            "  inflating: /content/noodles/train/udon/6b4154e5c171430e68d1a283803771ee.jpg  \n",
            "  inflating: /content/noodles/train/udon/be5930ff17300c062782bca149af48fb.jpg  \n",
            "  inflating: /content/noodles/train/udon/80d3035b8cdecb0de29f5c508134b24c.jpg  \n",
            "  inflating: /content/noodles/train/udon/80b56081d2ec03bcb5c251d70fc73dfe.jpg  \n",
            "  inflating: /content/noodles/train/udon/31777ac79de36adbca7b08de877663bf.jpg  \n",
            "  inflating: /content/noodles/train/udon/3864c1b4f7053fa46bd741a683992337.jpg  \n",
            "  inflating: /content/noodles/train/udon/5fe7ef735a0b6e5b0f56f0615f955c83.jpg  \n",
            "  inflating: /content/noodles/train/udon/4f7b926d8e57d8243d843bc92cd0a3c1.jpg  \n",
            "  inflating: /content/noodles/train/udon/37608cfe190fda3c10a7609a43522420.jpg  \n",
            "  inflating: /content/noodles/train/udon/6bbfd65e404dec03b48c15dcf154b72e.jpg  \n",
            "  inflating: /content/noodles/train/udon/fd388dd93b7c42c3eae4cad76a7d140a.jpg  \n",
            "  inflating: /content/noodles/train/udon/bd88ad9afaee8ff9faefb6827aad067f.jpg  \n",
            "  inflating: /content/noodles/train/udon/75bb0d97beb2fc7a87638afdc53eaf31.jpg  \n",
            "  inflating: /content/noodles/train/udon/0660d059d13f203c5e822c1f980c1836.jpg  \n",
            "  inflating: /content/noodles/train/udon/1b14a3e58daa110bb51f7791474058bf.jpg  \n",
            "  inflating: /content/noodles/train/udon/8d82acd715da3db12f7a498f6e98f0e0.jpg  \n",
            "  inflating: /content/noodles/train/udon/3fe2b1c78b11133cc0f0093368510287.jpg  \n",
            "  inflating: /content/noodles/train/udon/d4dc218365f77cf610265bc0aab857c6.jpg  \n",
            "  inflating: /content/noodles/train/udon/8511d49150d880b2716b662351163adb.jpg  \n",
            "  inflating: /content/noodles/train/udon/6f26c449beaddb7de8059c53bb72c4c6.jpg  \n",
            "  inflating: /content/noodles/train/udon/0008ccb95ea65115c9c91b973fa3d13a.jpg  \n",
            "  inflating: /content/noodles/train/udon/373030d7ae3ee92bd85bb6aba37f08bc.jpg  \n",
            "  inflating: /content/noodles/train/udon/da360b5ef1b5261611e31a9ee7198260.jpg  \n",
            "  inflating: /content/noodles/train/udon/30e39afaabac5f71eaea5e3cc11d916f.jpg  \n",
            "  inflating: /content/noodles/train/udon/aa834a01799f0b847389b6b800eeaf82.png  \n",
            "  inflating: /content/noodles/train/udon/0d74b44eb5c491bcd320dd05e2fe0171.jpg  \n",
            "  inflating: /content/noodles/train/udon/596a28d6865607140ae91878320c62dd.jpg  \n",
            "  inflating: /content/noodles/train/udon/e45e64a9487557f8c4f4ad91565b934e.jpg  \n",
            "  inflating: /content/noodles/train/udon/0f2e69e75273f1aefe2756c3384fb2ae.jpg  \n",
            "  inflating: /content/noodles/train/udon/4bb30b250c4e35d3dfa7e6870d9950de.jpg  \n",
            "  inflating: /content/noodles/train/udon/0a512b61e296ae66d1b4082c63724daf.jpg  \n",
            "  inflating: /content/noodles/train/udon/2eafff739cfa863d84ba96e857f781ec.jpg  \n",
            "  inflating: /content/noodles/train/udon/e48e84aba1f28b8b482023175b9ca943.jpeg  \n",
            "  inflating: /content/noodles/train/udon/13f64ae0e210b0cd5115d5fe83084f88.jpg  \n",
            "  inflating: /content/noodles/train/udon/1e5eecc0f73dabfa83c197d3c8ce9684.jpg  \n",
            "  inflating: /content/noodles/train/udon/f58298f7ede4fb2685a5c1eb8042a9ca.jpg  \n",
            "  inflating: /content/noodles/train/udon/07c76c8240b478c2976e25ee5312fa39.jpg  \n",
            "  inflating: /content/noodles/train/udon/80d3615c1a32fa35ac0545fe3afac719.jpg  \n",
            "  inflating: /content/noodles/train/udon/519e94cc458840ab14fd11ec3451d4e2.jpg  \n",
            "  inflating: /content/noodles/train/udon/2298606db113e2c8b8f3a94a70796e5d.jpg  \n",
            "  inflating: /content/noodles/train/udon/0b5bbb6c865025a62ab8fe0af25bc58f.jpg  \n",
            "  inflating: /content/noodles/train/udon/b882d545c88e15563cfd8dbcad7f33b8.jpg  \n",
            "  inflating: /content/__MACOSX/noodles/train/._udon  \n",
            "  inflating: /content/noodles/train/ramen/2428f2bcdd64e2cbf5b055085526af29.jpg  \n",
            "  inflating: /content/noodles/train/ramen/f1ad7e96d35aec140e7b96af626ad25c.jpg  \n",
            "  inflating: /content/noodles/train/ramen/596b99af18e74eb603bb8d11f0289b2e.jpg  \n",
            "  inflating: /content/noodles/train/ramen/d2b484ddad47fdbc752dfba8da34d2ac.jpg  \n",
            "  inflating: /content/noodles/train/ramen/02f5f33eaa99f544d1b56dd43acc12e7.jpg  \n",
            "  inflating: /content/noodles/train/ramen/ba78c5e425e49c8ec63b95a4291c9216.jpg  \n",
            "  inflating: /content/noodles/train/ramen/bf9e536481a002f132b9ab13b654b977.jpg  \n",
            "  inflating: /content/noodles/train/ramen/dccb3f6f0edaf61133a0ddb22c62cb36.jpg  \n",
            "  inflating: /content/noodles/train/ramen/2a03bb467e9b72f01435ec458bdffd2e.jpg  \n",
            "  inflating: /content/noodles/train/ramen/bbaf9fd09a6bf60680b62122d28ccf1e.jpg  \n",
            "  inflating: /content/noodles/train/ramen/8d55dd745eb9653b00410d65dbf9c54a.jpg  \n",
            "  inflating: /content/noodles/train/ramen/9be13b659ccfe3d61c6a2bbbf099cb38.jpg  \n",
            "  inflating: /content/noodles/train/ramen/1c0f3bfe8123758054af95f70bcdb3cc.jpg  \n",
            "  inflating: /content/noodles/train/ramen/362cf57d39fee33952247aa87cb3bd7d.jpg  \n",
            "  inflating: /content/noodles/train/ramen/1f7cc2288c5f854772f0b96095e9424f.jpg  \n",
            "  inflating: /content/noodles/train/ramen/8e659acc93d23a106b17c1118cc994c3.jpg  \n",
            "  inflating: /content/noodles/train/ramen/ef8b627649d0f898d2206d55b9668715.jpg  \n",
            "  inflating: /content/noodles/train/ramen/ea32e3d1a3c587b8ad6b45fe42e5c45a.jpg  \n",
            "  inflating: /content/noodles/train/ramen/cc6196344b471bd57f3ab2b267d24758.jpg  \n",
            "  inflating: /content/noodles/train/ramen/4384be4c6ef3d20bf3d7c1386f421635.jpg  \n",
            "  inflating: /content/noodles/train/ramen/6ad2ecd97fbdb62317c5f55d86644ac1.jpg  \n",
            "  inflating: /content/noodles/train/ramen/4b61e18f8c69015849b68eea336a0f71.jpg  \n",
            "  inflating: /content/noodles/train/ramen/6bf0428cd28f284739ea31e203af4f81.jpg  \n",
            "  inflating: /content/noodles/train/ramen/ce42c7f12bb431fe0f7db9432ffd2503.jpg  \n",
            "  inflating: /content/noodles/train/ramen/94be7815c644438bd5a466335b1f335e.jpg  \n",
            "  inflating: /content/noodles/train/ramen/9412ac00d0f159aff0f8a0e071b26e4a.jpg  \n",
            "  inflating: /content/noodles/train/ramen/f9a22be99f6a60054c0a459831ae469f.jpg  \n",
            "  inflating: /content/noodles/train/ramen/c5aff2b0ca0596b24528f816eaccce7f.jpg  \n",
            "  inflating: /content/noodles/train/ramen/e10acdaf61edbe6e94f8ea4c4920f6b9.jpg  \n",
            "  inflating: /content/noodles/train/ramen/32623e11208159c18a32fe31ec935f9d.jpg  \n",
            "  inflating: /content/noodles/train/ramen/6f9d9dc7e43867a03cff10dc4fe6938f.jpg  \n",
            "  inflating: /content/noodles/train/ramen/14161a11351065da97626c9b6780b38e.jpg  \n",
            "  inflating: /content/noodles/train/ramen/f48bd9ba7b8392cda8476b266796b175.jpg  \n",
            "  inflating: /content/noodles/train/ramen/6d002b8cc59824f65c02113f30d20936.jpg  \n",
            "  inflating: /content/noodles/train/ramen/e3e72d1710e6ab6731f06e92e8203c0b.jpg  \n",
            "  inflating: /content/noodles/train/ramen/bc901f77a67c2c520e9a4159e1ba6e65.jpg  \n",
            "  inflating: /content/noodles/train/ramen/92977fc8a2fa839b1f6224c4e1f61abc.jpg  \n",
            "  inflating: /content/noodles/train/ramen/ffbba21aabeee003a76bba81f2bae321.jpg  \n",
            "  inflating: /content/noodles/train/ramen/919861157443caaba5e770c969ae4f67.jpg  \n",
            "  inflating: /content/noodles/train/ramen/878d2114c892bec9d6d561570c0249de.jpg  \n",
            "  inflating: /content/noodles/train/ramen/71a5cecd44b84ebba304252c93a08a29.jpg  \n",
            "  inflating: /content/noodles/train/ramen/d06da8cf6c16dc7cdbc00948465eb44e.jpg  \n",
            "  inflating: /content/noodles/train/ramen/f9133ebcb365e0c180caa09351bdedc4.jpg  \n",
            "  inflating: /content/noodles/train/ramen/d4466269f774913a0ba87cf71b0e0388.jpg  \n",
            "  inflating: /content/noodles/train/ramen/01375acfef42ca0296d994319ab370d5.jpg  \n",
            "  inflating: /content/noodles/train/ramen/77adc3783f36704b20a204579aead78d.jpg  \n",
            "  inflating: /content/noodles/train/ramen/98c9fefa6f5331dd8ec42307f14833eb.jpg  \n",
            "  inflating: /content/noodles/train/ramen/1efd3e9f82a4898428ca1b7a66c5db5c.jpg  \n",
            "  inflating: /content/noodles/train/ramen/63bd3e69c95627c79287d4e6ce31edee.jpg  \n",
            "  inflating: /content/noodles/train/ramen/c5179c7a86454fdfc323f3cca1a7fb16.jpg  \n",
            "  inflating: /content/noodles/train/ramen/a83c32d475234704cd4874676a21db43.jpg  \n",
            "  inflating: /content/noodles/train/ramen/b73bb256df0eda866a3917498bc62e86.jpg  \n",
            "  inflating: /content/noodles/train/ramen/705d5605c29ab17ad906998c22f89463.jpg  \n",
            "  inflating: /content/noodles/train/ramen/493bb75a6cf8f9a22b62d9f0b6e60e14.jpg  \n",
            "  inflating: /content/noodles/train/ramen/c4fd4698886d6d8789b9c14e123a7e2e.jpg  \n",
            "  inflating: /content/noodles/train/ramen/6f75f71bf3c8bfb6b3ff70bf19b4794c.jpg  \n",
            "  inflating: /content/noodles/train/ramen/e90b7094d1b63ce3b51d117c49016665.jpg  \n",
            "  inflating: /content/noodles/train/ramen/de1904746f2217e5cfcc09447f5422e0.jpg  \n",
            "  inflating: /content/noodles/train/ramen/ce09e63ff4b9050d239108ec30e0c6ba.jpg  \n",
            "  inflating: /content/noodles/train/ramen/2a3e4dfaa4b35fdcb13c0da925480089.jpg  \n",
            "  inflating: /content/noodles/train/ramen/8041c0704b13a198ee56302b4d01c6a7.jpg  \n",
            "  inflating: /content/noodles/train/ramen/9c3a21d8f1ce8a0e8e200a6ccae7f0c6.jpg  \n",
            "  inflating: /content/noodles/train/ramen/9513513b4568821717b7d67dd84e5906.jpg  \n",
            "  inflating: /content/noodles/train/ramen/bb9cc7c07d1760dcd466e255bc1a0a16.jpg  \n",
            "  inflating: /content/noodles/train/ramen/e642a19d97dfe6232480b317a1bd5061.jpg  \n",
            "  inflating: /content/noodles/train/ramen/cbc3bd64c3913a8b60ce40b75d7fcd7b.jpg  \n",
            "  inflating: /content/noodles/train/ramen/305af535f67dd6545d68d00313201197.jpg  \n",
            "  inflating: /content/noodles/train/ramen/ad54b59b708f7a52856c6e8b44ec917f.jpg  \n",
            "  inflating: /content/noodles/train/ramen/a5c4886d4c6e285a4793c43c5919cfaf.jpg  \n",
            "  inflating: /content/noodles/train/ramen/67fc7e505352f7d2599f3b3eec38459d.jpg  \n",
            "  inflating: /content/noodles/train/ramen/1cbc46badedc704ec98f91b779995765.jpg  \n",
            "  inflating: /content/noodles/train/ramen/4d01ce2429ebe7747d4f5f98bcd17018.jpg  \n",
            "  inflating: /content/noodles/train/ramen/a6f3728a7e250d92c29482ef0cb206e4.jpg  \n",
            "  inflating: /content/noodles/train/ramen/fd5a0d45ec1131f212b016a3b28ca65f.jpg  \n",
            "  inflating: /content/noodles/train/ramen/dcdd4bdf085504d91ea831d766b953f3.jpg  \n",
            "  inflating: /content/noodles/train/ramen/89bb276f379a92a9dacb7e03fc7ca7a1.jpg  \n",
            "  inflating: /content/noodles/train/ramen/331a894a04547c52847824ed0939083a.jpg  \n",
            "  inflating: /content/noodles/train/ramen/6353d88d71a761871427c1b7acd130fa.jpg  \n",
            "  inflating: /content/noodles/train/ramen/a7b7a7a0be98908dc2f09a944f19d11b.jpg  \n",
            "  inflating: /content/noodles/train/ramen/eb20e9cb89554d87dc2f45edcc4d4361.jpg  \n",
            "  inflating: /content/noodles/train/ramen/3e8ca30a11583d5109d6f707ef28b5b0.jpg  \n",
            "  inflating: /content/noodles/train/ramen/e023249e6799b941a7126fbb83d89841.jpg  \n",
            "  inflating: /content/noodles/train/ramen/1744ecf4c2389168d32b9661b5dc8d97.jpg  \n",
            "  inflating: /content/noodles/train/ramen/689ca91eccc82d9a97e869f25e1bf691.jpg  \n",
            "  inflating: /content/noodles/train/ramen/22361a0cae92a53d885007a9d2dea5da.jpg  \n",
            "  inflating: /content/noodles/train/ramen/429897fb7a3dc4273ce56b3dc5930a99.jpg  \n",
            "  inflating: /content/noodles/train/ramen/312587f251cbdd491eefa824603ddd8f.jpg  \n",
            "  inflating: /content/noodles/train/ramen/3acf5b888fb9fdfa912f1d138840d932.jpg  \n",
            "  inflating: /content/noodles/train/ramen/9281f6ad7570db06158980cf1fd65e10.jpg  \n",
            "  inflating: /content/noodles/train/ramen/061bf905ebbba6fd7719ac3322b34f9b.jpg  \n",
            "  inflating: /content/noodles/train/ramen/abf50af971ff5f5b02f7240ecec60bd8.jpg  \n",
            "  inflating: /content/noodles/train/ramen/df89c4f5de3a5126d51b25eb8cbd0559.jpg  \n",
            " extracting: /content/noodles/train/ramen/Icon  \n",
            "  inflating: /content/__MACOSX/noodles/train/ramen/._Icon  \n",
            "  inflating: /content/noodles/train/ramen/b3386180a413f03c5f1dea5762b57f1d.jpg  \n",
            "  inflating: /content/noodles/train/ramen/21b1727ec4b76d60449f5cb76016f15c.jpg  \n",
            "  inflating: /content/noodles/train/ramen/de7a24e2d8697d9bc81c60aee128557e.jpg  \n",
            "  inflating: /content/noodles/train/ramen/d9595b02c7606b948d2a3b73b1dadfba.jpg  \n",
            "  inflating: /content/noodles/train/ramen/7172c06c7a88f8bc05392cfb1710c20c.jpg  \n",
            "  inflating: /content/noodles/train/ramen/b9668a2661c859b9aaa1e2dcaa06a3a0.jpg  \n",
            "  inflating: /content/noodles/train/ramen/4999d0ac0f8decb4fa96c11ec152ba43.jpg  \n",
            "  inflating: /content/noodles/train/ramen/8061d332b88173f6a840bf1f0225f78c.jpg  \n",
            "  inflating: /content/noodles/train/ramen/66d65f6aeec2a8ea3ead84256dd2eb08.jpg  \n",
            "  inflating: /content/noodles/train/ramen/9943483e2639235f03acd70efb581d79.jpg  \n",
            "  inflating: /content/noodles/train/ramen/bb359990984caa5d28bc7fe5c593ecfd.jpg  \n",
            "  inflating: /content/noodles/train/ramen/6532ef56eee6ba515987be0718294ff2.jpg  \n",
            "  inflating: /content/noodles/train/ramen/c6efce5047515320b0bbcb458365aa97.jpg  \n",
            "  inflating: /content/noodles/train/ramen/42072664f4597758915698cc91d8f5f3.jpg  \n",
            "  inflating: /content/noodles/train/ramen/c488043534e57de774fd94a505084751.jpg  \n",
            "  inflating: /content/noodles/train/ramen/5d0bee36b0794182fed79545081468a8.jpg  \n",
            "  inflating: /content/noodles/train/ramen/7815c800e8f3c3147cd61692349fc89a.jpg  \n",
            "  inflating: /content/noodles/train/ramen/ecd7b7759e45a10c11923a9d82f1e5b2.jpg  \n",
            "  inflating: /content/noodles/train/ramen/edc5c87b9ebfdd64ce090a1b50b1b80a.jpg  \n",
            "  inflating: /content/noodles/train/ramen/1629444156a01cea1082fecaea269c69.jpg  \n",
            "  inflating: /content/noodles/train/ramen/27f60343fd4be7c25f0a71e190ec0e01.jpg  \n",
            "  inflating: /content/noodles/train/ramen/717d7a1cba6606250e07bfc2d9eaaac7.jpg  \n",
            "  inflating: /content/noodles/train/ramen/26c38c47f81738c1939aaa4e321b2c72.jpg  \n",
            "  inflating: /content/noodles/train/ramen/54a6cc32c9a36b06ced4699c21502c85.jpg  \n",
            "  inflating: /content/noodles/train/ramen/b8b9055105f6cc2f3a0a893708d48265.jpg  \n",
            "  inflating: /content/noodles/train/ramen/dcfd5002a7db8fcd5c3c5bb757a4f7fc.jpg  \n",
            "  inflating: /content/noodles/train/ramen/eb80fcc815333b00ae8a9adfacfd252f.jpg  \n",
            "  inflating: /content/noodles/train/ramen/22a8f1407c41f976ce996f239ab7a908.jpg  \n",
            "  inflating: /content/noodles/train/ramen/2c606207e133e5802a589c6369596575.jpg  \n",
            "  inflating: /content/noodles/train/ramen/4c16f1af3d5d26af593ad88dc308a948.jpg  \n",
            "  inflating: /content/noodles/train/ramen/4d9eefedcbd265788d8e2d52be5e62bd.jpg  \n",
            "  inflating: /content/noodles/train/ramen/e4ee85592ba996412297667efb1e70a4.jpg  \n",
            "  inflating: /content/noodles/train/ramen/34a2d3f6c97974298938fbf50fbc028a.jpg  \n",
            "  inflating: /content/noodles/train/ramen/18a813c053037cd93dd95d461a311c1d.jpg  \n",
            "  inflating: /content/noodles/train/ramen/19300411218e5b01b3d3469203845e8d.jpg  \n",
            "  inflating: /content/noodles/train/ramen/6ee01c7efe25bf964512242c91e07f69.jpg  \n",
            "  inflating: /content/noodles/train/ramen/c90a9ac320edeb8b9e6a609790dfd2d8.jpg  \n",
            "  inflating: /content/noodles/train/ramen/a384be98711250fd91986bab65481f59.jpg  \n",
            "  inflating: /content/noodles/train/ramen/c4aa580a153955559004cd449e3ea892.jpg  \n",
            "  inflating: /content/noodles/train/ramen/56b448a234b984e782dfffea491a542c.jpg  \n",
            "  inflating: /content/noodles/train/ramen/ca990a46da0d35a13c11ab1303ced1f7.jpg  \n",
            "  inflating: /content/noodles/train/ramen/538bb690fdf9d392bd6c0403559f608b.jpg  \n",
            "  inflating: /content/noodles/train/ramen/482735a38a13829e0251d9cecc357dba.jpg  \n",
            "  inflating: /content/noodles/train/ramen/7586b83394206240885a437b796ddae4.jpg  \n",
            "  inflating: /content/noodles/train/ramen/eeae173a329b06e81116dbf3b8d4b63e.jpg  \n",
            "  inflating: /content/noodles/train/ramen/bbbb5c24ddf7917f2316bb221b14e932.jpg  \n",
            "  inflating: /content/noodles/train/ramen/850e91d13961426fbb96e86be7653373.jpg  \n",
            "  inflating: /content/noodles/train/ramen/8c4c0290ec68294ff5118dd6e2c29450.jpg  \n",
            "  inflating: /content/noodles/train/ramen/e8bf8c7fb3b3c84a316c8c00e5eeebaf.jpg  \n",
            "  inflating: /content/noodles/train/ramen/e3575dbdc0bc580d06326e8268a56fb9.jpg  \n",
            "  inflating: /content/noodles/train/ramen/1e0616ea54f1b2919dbcd4180d02a899.jpg  \n",
            "  inflating: /content/noodles/train/ramen/663c9e45b120a6fdbdac712dbecbdf63.jpg  \n",
            "  inflating: /content/noodles/train/ramen/eaf8918b5ae3b2baffc927d4fa375b87.jpg  \n",
            "  inflating: /content/noodles/train/ramen/45a0d5eaa123461c38603096cb583802.jpg  \n",
            "  inflating: /content/noodles/train/ramen/03da108a718435ed77080f050bac7733.jpg  \n",
            "  inflating: /content/noodles/train/ramen/9652883396e84670e0d82c8246635098.jpg  \n",
            "  inflating: /content/noodles/train/ramen/9f71a73d4dd243d724f003cc4c23ec31.jpg  \n",
            "  inflating: /content/noodles/train/ramen/236fe21eb8362b7a22ce14644b6c7ed8.jpg  \n",
            "  inflating: /content/noodles/train/ramen/2f04b90f8ac2098b6bd3841b6e151455.jpg  \n",
            "  inflating: /content/noodles/train/ramen/c4b4c64bb50150948e9782ab46f82eca.jpg  \n",
            "  inflating: /content/noodles/train/ramen/d09dd960f275a4bb101f744cb54631cd.jpg  \n",
            "  inflating: /content/noodles/train/ramen/fcb316da2e0bbdc8870a368a86f7a3a8.jpg  \n",
            "  inflating: /content/noodles/train/ramen/ff932b40a09571f4ca6e283a7c6ad620.jpg  \n",
            "  inflating: /content/noodles/train/ramen/efa2358b80d1954d4a1c1283ea43b74d.jpg  \n",
            "  inflating: /content/noodles/train/ramen/bd9ff440b8a4e41238d301aa03d93628.jpg  \n",
            "  inflating: /content/noodles/train/ramen/c85729d85f26b157e6f0cf6e64eff344.jpg  \n",
            "  inflating: /content/noodles/train/ramen/28e1abcca43b5331cd9c11a89d78db03.jpg  \n",
            "  inflating: /content/noodles/train/ramen/03477d329e51964eca3d5350513bdc5b.jpg  \n",
            "  inflating: /content/noodles/train/ramen/860fc78897ed2938302b013fa1421666.jpg  \n",
            "  inflating: /content/noodles/train/ramen/f962aff0c7e098b36957e9c3710cae8d.jpg  \n",
            "  inflating: /content/noodles/train/ramen/1d09b0ea6d282d63fca5aee5a3e18869.jpg  \n",
            "  inflating: /content/noodles/train/ramen/ba21f2dff6ca4488c67543f145e1cf11.jpg  \n",
            "  inflating: /content/noodles/train/ramen/a88523b7f7107e8dcfbb0c0953bc57dc.jpg  \n",
            "  inflating: /content/noodles/train/ramen/c46bc79f47fa11547fc6e715208b8af3.jpg  \n",
            "  inflating: /content/noodles/train/ramen/6f723306adfaa14816de9f723817160b.jpg  \n",
            "  inflating: /content/noodles/train/ramen/ab1a9f3eb9e104f76be285aba1093278.jpg  \n",
            "  inflating: /content/noodles/train/ramen/c45be87b16d30079f72e3f968c01e3b9.jpg  \n",
            "  inflating: /content/noodles/train/ramen/746941ea63963f21d19d3fee3d1ab4f1.jpg  \n",
            "  inflating: /content/noodles/train/ramen/ecbd4fb985a5f225b022792bd93aaa0b.jpg  \n",
            "  inflating: /content/noodles/train/ramen/29a83b88bdf9d1bb5eb68ea0bc7ee13d.jpg  \n",
            "  inflating: /content/noodles/train/ramen/371ca98670c962ca82fba061b3894aba.jpg  \n",
            "  inflating: /content/noodles/train/ramen/19853c7292e6a71e389d47bc017bf3b5.jpg  \n",
            "  inflating: /content/noodles/train/ramen/0752a6b9a8a1bfee27434f57ee9dbef4.jpg  \n",
            "  inflating: /content/noodles/train/ramen/1a261ab279722306bc3e792ad7a92b6b.jpg  \n",
            "  inflating: /content/noodles/train/ramen/940a1df193a432f82857d3687e67e2ee.jpg  \n",
            "  inflating: /content/noodles/train/ramen/639a083b570e13825cc031a0da78b2de.jpg  \n",
            "  inflating: /content/noodles/train/ramen/6ab6dabb8dc9678a97dbf53da9f405fd.jpg  \n",
            "  inflating: /content/noodles/train/ramen/8dec0d7611c44d62b5323dbc1b2ae44a.jpg  \n",
            "  inflating: /content/noodles/train/ramen/87741a9a5a17a75b815c080cc792db74.jpg  \n",
            "  inflating: /content/noodles/train/ramen/a8b7cb5030d755602486d8491c0adf33.jpg  \n",
            "  inflating: /content/noodles/train/ramen/be3b792c81df0e889f6444b791e03c62.jpg  \n",
            "  inflating: /content/noodles/train/ramen/f0eec431f256f62200f566d661cd0f1f.jpg  \n",
            "  inflating: /content/noodles/train/ramen/5024673f16b22b657d24f45f6cb0049c.jpg  \n",
            "  inflating: /content/noodles/train/ramen/b1f9bb4d027e463100032cc28645cc9c.jpg  \n",
            "  inflating: /content/noodles/train/ramen/951a7cdf8dba2ebde5d6a853783f3859.jpg  \n",
            "  inflating: /content/noodles/train/ramen/df27d461c960eafa29e6122abb3c902c.jpg  \n",
            "  inflating: /content/noodles/train/ramen/17efd70c6b2ea1ecdf3086170fc7caa9.jpg  \n",
            "  inflating: /content/noodles/train/ramen/7d8eed1688352b2d1abf2b49b9b1ef14.jpg  \n",
            "  inflating: /content/noodles/train/ramen/abb9efaaa6583331866940a279629013.jpg  \n",
            "  inflating: /content/noodles/train/ramen/a030b5cddab8a0434ac0bae9888069e0.jpg  \n",
            "  inflating: /content/noodles/train/ramen/bb58e79b53bbf3932b69bee6907186f3.jpg  \n",
            "  inflating: /content/noodles/train/ramen/7cf86b59d05febc07b6e92d9d5770dd7.jpg  \n",
            "  inflating: /content/noodles/train/ramen/6bb32deef15dea85471dbeadf2c8bf15.jpg  \n",
            "  inflating: /content/noodles/train/ramen/16019f86e717d33563ba4ea05860aaa5.png  \n",
            "  inflating: /content/noodles/train/ramen/47fd85bd676a45ac00835a01a9ff5124.jpg  \n",
            "  inflating: /content/noodles/train/ramen/4f7449d85ccd6998e650b450ed1a4768.jpg  \n",
            "  inflating: /content/noodles/train/ramen/bb26bd7797b01e4a126dec9f5febda1a.jpg  \n",
            "  inflating: /content/noodles/train/ramen/fe57253cea9e3e1b139fea2dceb3c370.jpg  \n",
            "  inflating: /content/noodles/train/ramen/4ddcd3493b35fce919e2c83d14d14a17.png  \n",
            "  inflating: /content/noodles/train/ramen/2b953d1068162cc2e25998ec42e529c7.jpg  \n",
            "  inflating: /content/noodles/train/ramen/355378f49aadac3a344f0157a4cc2afb.jpg  \n",
            "  inflating: /content/noodles/train/ramen/79244d752000d23052c4689fd1094cc4.jpg  \n",
            "  inflating: /content/noodles/train/ramen/3d05f92a50404290a8a33b9e5e1c8f3d.jpg  \n",
            "  inflating: /content/noodles/train/ramen/d658d892bd8464b70061c257cc607822.jpg  \n",
            "  inflating: /content/noodles/train/ramen/65b3a857f6b1ad4972ebc035b1614ed5.jpg  \n",
            "  inflating: /content/noodles/train/ramen/c8a21724277516ece1e23a69c4ecc965.jpg  \n",
            "  inflating: /content/noodles/train/ramen/1961c4aa7b18478a40dfc27537f1368d.jpg  \n",
            "  inflating: /content/noodles/train/ramen/687e53ac8e985f18714fc0ee5ccedc1c.jpg  \n",
            "  inflating: /content/noodles/train/ramen/ab244b842401df2086e4ee85a21346e9.jpg  \n",
            "  inflating: /content/noodles/train/ramen/d945e5cdb09e17d988edc9a44a56eefa.jpg  \n",
            "  inflating: /content/noodles/train/ramen/375dd2e85d66e6c2d837c546c7028949.jpg  \n",
            "  inflating: /content/noodles/train/ramen/ccd60c01f859b38e4fd99966ab27c5b7.jpg  \n",
            "  inflating: /content/noodles/train/ramen/fa4a94d940b37ec31cd2e12a77198e55.jpg  \n",
            "  inflating: /content/noodles/train/ramen/38f6e3172d4c7441ce92d84740def1c4.jpg  \n",
            "  inflating: /content/noodles/train/ramen/43097100249367bcf8e9321c8e00eae6.jpg  \n",
            "  inflating: /content/noodles/train/ramen/31ac8c90a5b0e75db4b3dc4175b05ec7.jpg  \n",
            "  inflating: /content/noodles/train/ramen/aa8e1ef04a4d816bc03f06ea19fb6613.jpg  \n",
            "  inflating: /content/noodles/train/ramen/be50788d8512d602e0a1ac94d52b95ee.jpg  \n",
            "  inflating: /content/noodles/train/ramen/3acc151e5e8cacb75018adf622ec00ff.jpg  \n",
            "  inflating: /content/noodles/train/ramen/d4ac1800573b0e99f272da0d1b65a4dc.jpg  \n",
            "  inflating: /content/noodles/train/ramen/14f92bce1e0043b4ee0867062de59afe.jpg  \n",
            "  inflating: /content/noodles/train/ramen/2199e1b53c3d7d9aa2f1f55ef39fb224.jpg  \n",
            "  inflating: /content/noodles/train/ramen/5889d385ba17cb47665101f78f3829f1.jpg  \n",
            "  inflating: /content/noodles/train/ramen/982059698fc4a98f532c0cf7a6ea556e.jpg  \n",
            "  inflating: /content/noodles/train/ramen/6a7a3f38fc38c6a35875a73731e49409.jpg  \n",
            "  inflating: /content/noodles/train/ramen/e66fe49ed0a99d4cf549c2299e0a42c5.jpg  \n",
            "  inflating: /content/noodles/train/ramen/1ed3b647baddc72533c977559208e045.jpg  \n",
            "  inflating: /content/noodles/train/ramen/90ebf92399563e56594ecd0142010bb5.jpg  \n",
            "  inflating: /content/noodles/train/ramen/06589e3a864b0cabdbc865354dbc712a.jpg  \n",
            "  inflating: /content/noodles/train/ramen/62bcaa668410eeefec285cf8efe52c37.jpg  \n",
            "  inflating: /content/noodles/train/ramen/b1f8f63fd6858960c4199700ea594b4f.jpg  \n",
            "  inflating: /content/noodles/train/ramen/5dcebefcd7e620988698a090ab382e0d.jpg  \n",
            "  inflating: /content/noodles/train/ramen/dab243ddf216df023321786fcdeb087a.jpg  \n",
            "  inflating: /content/noodles/train/ramen/d66714d154f032b17b51e1de5af25161.jpg  \n",
            "  inflating: /content/noodles/train/ramen/f94c479434d9ac71519dda1bf2400bba.jpg  \n",
            "  inflating: /content/noodles/train/ramen/18f92a5bb0b02b4a0cd28aa2a8c73693.jpg  \n",
            "  inflating: /content/noodles/train/ramen/282d4c99e833e3d2187d7438114581ed.jpg  \n",
            "  inflating: /content/noodles/train/ramen/1a6c85a10cf809af38b26bc13b523175.jpg  \n",
            "  inflating: /content/noodles/train/ramen/0e683a4500fc9c3a213be7e2d47c721a.jpg  \n",
            "  inflating: /content/noodles/train/ramen/de95939f44ad7e6f4d4c46818061bd58.jpg  \n",
            "  inflating: /content/noodles/train/ramen/6a3bb5d5903aaade6e487486e3965833.jpg  \n",
            "  inflating: /content/noodles/train/ramen/608fba22bb9874f7e6186ef963cc2530.jpg  \n",
            "  inflating: /content/noodles/train/ramen/3e7a48bcafcf87e1c2669d5211de9772.jpg  \n",
            "  inflating: /content/noodles/train/ramen/8eb9a076651066d44d90a96da33065d8.jpg  \n",
            "  inflating: /content/noodles/train/ramen/23f389fe00846bdef9d8ead5d3c2dfe2.jpg  \n",
            "  inflating: /content/noodles/train/ramen/d100ddb12f5aba0dd3b74d9e077e437f.jpg  \n",
            "  inflating: /content/noodles/train/ramen/86461c80dff5150e4f08cc92cc7c9fb3.jpg  \n",
            "  inflating: /content/noodles/train/ramen/ab553d2e7b4f9ea3e67627c11170185d.jpg  \n",
            "  inflating: /content/noodles/train/ramen/7fe1967d2cfaea6fc20465629c67986d.jpg  \n",
            "  inflating: /content/noodles/train/ramen/fb602a426f91e9b74d84dbf060ad2a85.jpg  \n",
            "  inflating: /content/noodles/train/ramen/c43bcd555ac183451e1a956ea13fe145.jpg  \n",
            "  inflating: /content/noodles/train/ramen/9d3ba2e1c38d15f793229aba32902d79.jpg  \n",
            "  inflating: /content/noodles/train/ramen/c0b009769ba13adb65e0e08732d1dcd5.jpg  \n",
            "  inflating: /content/noodles/train/ramen/eb80865c38343021d9ff4a98a56cb34c.jpg  \n",
            "  inflating: /content/noodles/train/ramen/2ab311ce3af286b9299a537ada6a9067.jpg  \n",
            "  inflating: /content/noodles/train/ramen/7f4958767ad11828fa82adff7aed0773.jpg  \n",
            "  inflating: /content/noodles/train/ramen/d7ac9d754389701a0390a1c9902e365a.jpg  \n",
            "  inflating: /content/noodles/train/ramen/e22d228723fa875d343a890f104bc329.jpg  \n",
            "  inflating: /content/noodles/train/ramen/43b7f0555f71ebec4d1f6959a96cd5b1.jpg  \n",
            "  inflating: /content/noodles/train/ramen/9beafc2ed57dd4890c705a8db546d5f1.jpg  \n",
            "  inflating: /content/noodles/train/ramen/1486f31330daf0933b5b2929aacaf7c9.jpg  \n",
            "  inflating: /content/noodles/train/ramen/3f2c6676cd304d01c157c2f29dbd72e0.jpg  \n",
            "  inflating: /content/noodles/train/ramen/c59c73b8b812cb60e887e024fa7d88bd.jpg  \n",
            "  inflating: /content/noodles/train/ramen/39382e1402e95ca6c60c14a739552dab.jpg  \n",
            "  inflating: /content/noodles/train/ramen/f439e2e14c6d8a79c1358cc0a4cfa058.jpg  \n",
            "  inflating: /content/noodles/train/ramen/901477059ef0b4811fa4f27210cada93.jpg  \n",
            "  inflating: /content/noodles/train/ramen/5003b3625f658edfb1265fc4d31dabf3.jpg  \n",
            "  inflating: /content/noodles/train/ramen/094d5544d4a3fc81e3effa6020490189.jpg  \n",
            "  inflating: /content/noodles/train/ramen/642732980c750b3ac6c230f8cc3f526d.jpg  \n",
            "  inflating: /content/noodles/train/ramen/9d5f1f8c1efd9ebed4c38e33e5e688ce.jpg  \n",
            "  inflating: /content/noodles/train/ramen/44652913dfb81ae3833ef4bb3b2ef876.jpg  \n",
            "  inflating: /content/noodles/train/ramen/b094235df5dfa43b4ac6f8a11688aa03.jpg  \n",
            "  inflating: /content/noodles/train/ramen/1c97724af75d746996f20f5412c743bc.jpg  \n",
            "  inflating: /content/noodles/train/ramen/227a79d78f031cb9f5dda7757fd6a6a8.jpg  \n",
            "  inflating: /content/noodles/train/ramen/f7f99cc9202c14608302e57137ef9b3d.jpg  \n",
            "  inflating: /content/noodles/train/ramen/db80f06a26e271ab7607c5af0b9c9e74.jpg  \n",
            "  inflating: /content/noodles/train/ramen/73cca07522dc3beb61b86196106e2cf0.jpg  \n",
            "  inflating: /content/noodles/train/ramen/4bb4eade952bdd48e285f5c65d5bd8f8.png  \n",
            "  inflating: /content/noodles/train/ramen/6db5b553b727e47ce411bf4534ff8781.jpg  \n",
            "  inflating: /content/noodles/train/ramen/56aab576934484a5cb6c0039357f6f32.jpg  \n",
            "  inflating: /content/noodles/train/ramen/7c5c790b5677081010bc65ebd0ce764e.jpg  \n",
            "  inflating: /content/noodles/train/ramen/07dc09dc0b3a18f84fd0e199059af454.jpg  \n",
            "  inflating: /content/noodles/train/ramen/c037bf336bd2cef5e1f0e679071db264.jpg  \n",
            "  inflating: /content/noodles/train/ramen/aaf9a425c41e80592dc0e0ad71311695.jpg  \n",
            "  inflating: /content/noodles/train/ramen/438e5927426a8d77812540a7c5be4738.jpg  \n",
            "  inflating: /content/noodles/train/ramen/8ac13c091aad657fe0d746e0ca2632b6.jpg  \n",
            "  inflating: /content/noodles/train/ramen/e7e05eee16be00b416b790b48eb57de5.jpg  \n",
            "  inflating: /content/noodles/train/ramen/75c20129ea7878b6897ae0d7037d01f0.jpg  \n",
            "  inflating: /content/noodles/train/ramen/e7bd52a4b94bed7c5ee4a1bb10ec49eb.jpg  \n",
            "  inflating: /content/noodles/train/ramen/d0787360862736370897bc909c48d91b.png  \n",
            "  inflating: /content/noodles/train/ramen/f2adc66bec15de53c5ffbd286751009d.jpg  \n",
            "  inflating: /content/noodles/train/ramen/28ec88f3be1d1973fdf5d05a60bff47a.jpg  \n",
            "  inflating: /content/noodles/train/ramen/f2d49d0a54db560babdd7e811a9e24b6.jpg  \n",
            "  inflating: /content/noodles/train/ramen/c0872019345e2bac09a9bbeb11ed5ebc.jpg  \n",
            "  inflating: /content/noodles/train/ramen/5bb4f2ca16aeea6b16a9647e8c82f660.jpg  \n",
            "  inflating: /content/noodles/train/ramen/440696293950391a85b6346338a97be2.jpg  \n",
            "  inflating: /content/noodles/train/ramen/495850f505b9d3905853d5a4fee74dd7.jpg  \n",
            "  inflating: /content/noodles/train/ramen/53c6bd1af471d11d2fb3581e7dedf01b.jpg  \n",
            "  inflating: /content/__MACOSX/noodles/train/._ramen  \n",
            "  inflating: /content/__MACOSX/noodles/._train  \n",
            "  inflating: /content/__MACOSX/._noodles  \n"
          ],
          "name": "stdout"
        }
      ]
    },
    {
      "metadata": {
        "id": "tyJF4fK6Mkhg",
        "colab_type": "text"
      },
      "cell_type": "markdown",
      "source": [
        "## ライブラリのインポート"
      ]
    },
    {
      "metadata": {
        "id": "6W-ZG_SrMkhi",
        "colab_type": "code",
        "colab": {}
      },
      "cell_type": "code",
      "source": [
        "import tensorflow.keras as keras"
      ],
      "execution_count": 0,
      "outputs": []
    },
    {
      "metadata": {
        "id": "3PMIUnSRMkho",
        "colab_type": "text"
      },
      "cell_type": "markdown",
      "source": [
        "## 画像データの準備"
      ]
    },
    {
      "metadata": {
        "id": "QkMMA05DMkhu",
        "colab_type": "text"
      },
      "cell_type": "markdown",
      "source": [
        " 解凍した教師画像からデータを読み込むImageDataGeneratorを作成します。"
      ]
    },
    {
      "metadata": {
        "id": "xNzsFKSzMkhy",
        "colab_type": "code",
        "outputId": "98b3819c-f5fa-4ecc-f656-f3bda186b63b",
        "colab": {
          "base_uri": "https://localhost:8080/",
          "height": 69
        }
      },
      "cell_type": "code",
      "source": [
        "train_dir = './noodles/train/'\n",
        "validation_dir = './noodles/validaiton/'\n",
        "test_dir = './noodles/test/'\n",
        "image_size = (128, 128)\n",
        "batch_size = 32\n",
        "steps_per_epoch = 300 // batch_size\n",
        "validation_steps = 100 // batch_size\n",
        "test_steps = 100 // batch_size\n",
        "\n",
        "image_data_generator = keras.preprocessing.image.ImageDataGenerator(rescale=1/255.0)\n",
        "\n",
        "train_generator = image_data_generator.flow_from_directory(train_dir,\n",
        "                                                           target_size=image_size, \n",
        "                                                           batch_size=batch_size)\n",
        "validation_generator = image_data_generator.flow_from_directory(validation_dir,\n",
        "                                                                target_size=image_size, \n",
        "                                                                batch_size=batch_size)\n",
        "test_generator = image_data_generator.flow_from_directory(test_dir,\n",
        "                                                                target_size=image_size, \n",
        "                                                                batch_size=batch_size)"
      ],
      "execution_count": 0,
      "outputs": [
        {
          "output_type": "stream",
          "text": [
            "Found 600 images belonging to 2 classes.\n",
            "Found 200 images belonging to 2 classes.\n",
            "Found 200 images belonging to 2 classes.\n"
          ],
          "name": "stdout"
        }
      ]
    },
    {
      "metadata": {
        "id": "JrnVSkAgUFZW",
        "colab_type": "text"
      },
      "cell_type": "markdown",
      "source": [
        "## ニューラルネットワークの過学習とは？"
      ]
    },
    {
      "metadata": {
        "id": "oKfq7VNUMkh2",
        "colab_type": "text"
      },
      "cell_type": "markdown",
      "source": [
        "###  モデルの構築"
      ]
    },
    {
      "metadata": {
        "id": "BLWy-aTTMkh3",
        "colab_type": "text"
      },
      "cell_type": "markdown",
      "source": [
        "Conv2DとMaxPooling2Dを用いた画像の２値分類のための畳み込みニューラルネットワークを構成します。"
      ]
    },
    {
      "metadata": {
        "id": "FQKBcqx9Mkh7",
        "colab_type": "code",
        "colab": {}
      },
      "cell_type": "code",
      "source": [
        "model = keras.models.Sequential()\n",
        "\n",
        "model.add(keras.layers.Conv2D(32, (3, 3), strides=(1, 1), activation='relu', input_shape=(128, 128, 3)))\n",
        "model.add(keras.layers.MaxPooling2D((2, 2)))\n",
        "model.add(keras.layers.Conv2D(64, (3, 3), strides=(1, 1), activation='relu'))\n",
        "model.add(keras.layers.MaxPooling2D((2, 2)))\n",
        "model.add(keras.layers.Conv2D(128, (3, 3), strides=(1, 1), activation='relu'))\n",
        "model.add(keras.layers.MaxPooling2D((2, 2)))\n",
        "model.add(keras.layers.Flatten())\n",
        "model.add(keras.layers.Dense(128, activation='relu'))\n",
        "model.add(keras.layers.Dense(2, activation='softmax'))\n"
      ],
      "execution_count": 0,
      "outputs": []
    },
    {
      "metadata": {
        "id": "o_e3o5t1MkiB",
        "colab_type": "text"
      },
      "cell_type": "markdown",
      "source": [
        "### モデル構造の表示"
      ]
    },
    {
      "metadata": {
        "scrolled": true,
        "id": "U1BB67g4MkiE",
        "colab_type": "code",
        "outputId": "d0a1128a-938d-4fe2-c586-053a9183d75f",
        "colab": {
          "base_uri": "https://localhost:8080/",
          "height": 449
        }
      },
      "cell_type": "code",
      "source": [
        "model.summary()"
      ],
      "execution_count": 0,
      "outputs": [
        {
          "output_type": "stream",
          "text": [
            "_________________________________________________________________\n",
            "Layer (type)                 Output Shape              Param #   \n",
            "=================================================================\n",
            "conv2d (Conv2D)              (None, 126, 126, 32)      896       \n",
            "_________________________________________________________________\n",
            "max_pooling2d (MaxPooling2D) (None, 63, 63, 32)        0         \n",
            "_________________________________________________________________\n",
            "conv2d_1 (Conv2D)            (None, 61, 61, 64)        18496     \n",
            "_________________________________________________________________\n",
            "max_pooling2d_1 (MaxPooling2 (None, 30, 30, 64)        0         \n",
            "_________________________________________________________________\n",
            "conv2d_2 (Conv2D)            (None, 28, 28, 128)       73856     \n",
            "_________________________________________________________________\n",
            "max_pooling2d_2 (MaxPooling2 (None, 14, 14, 128)       0         \n",
            "_________________________________________________________________\n",
            "flatten (Flatten)            (None, 25088)             0         \n",
            "_________________________________________________________________\n",
            "dense (Dense)                (None, 128)               3211392   \n",
            "_________________________________________________________________\n",
            "dense_1 (Dense)              (None, 2)                 258       \n",
            "=================================================================\n",
            "Total params: 3,304,898\n",
            "Trainable params: 3,304,898\n",
            "Non-trainable params: 0\n",
            "_________________________________________________________________\n"
          ],
          "name": "stdout"
        }
      ]
    },
    {
      "metadata": {
        "id": "VFPse_SxMkiH",
        "colab_type": "text"
      },
      "cell_type": "markdown",
      "source": [
        "### モデルのコンパイル"
      ]
    },
    {
      "metadata": {
        "id": "hwB2WqYkMkiJ",
        "colab_type": "text"
      },
      "cell_type": "markdown",
      "source": [
        "モデルをコンパイルします。"
      ]
    },
    {
      "metadata": {
        "id": "BixHmvHDMkiM",
        "colab_type": "code",
        "colab": {}
      },
      "cell_type": "code",
      "source": [
        "model.compile(loss='categorical_crossentropy', \n",
        "              optimizer='adam',\n",
        "              metrics=['acc'])"
      ],
      "execution_count": 0,
      "outputs": []
    },
    {
      "metadata": {
        "id": "-DQWQh12MkiW",
        "colab_type": "text"
      },
      "cell_type": "markdown",
      "source": [
        "### モデルの訓練"
      ]
    },
    {
      "metadata": {
        "id": "i78Q9x4yMkiY",
        "colab_type": "text"
      },
      "cell_type": "markdown",
      "source": [
        "ここでは30エポック、モデルの訓練を行います。"
      ]
    },
    {
      "metadata": {
        "id": "CY4SvCB0MkiZ",
        "colab_type": "code",
        "outputId": "6fcd32f0-c9f5-4185-f839-a6f29464fc2a",
        "colab": {
          "base_uri": "https://localhost:8080/",
          "height": 1108
        }
      },
      "cell_type": "code",
      "source": [
        "history = model.fit_generator(train_generator,\n",
        "                             epochs=30,\n",
        "                             steps_per_epoch=steps_per_epoch,\n",
        "                             validation_data=validation_generator,\n",
        "                             validation_steps=validation_steps)"
      ],
      "execution_count": 0,
      "outputs": [
        {
          "output_type": "stream",
          "text": [
            "Epoch 1/30\n",
            "8/9 [=========================>....] - ETA: 1s - loss: 0.8275 - acc: 0.5195"
          ],
          "name": "stdout"
        },
        {
          "output_type": "stream",
          "text": [
            "/usr/local/lib/python3.6/dist-packages/PIL/Image.py:872: UserWarning: Palette images with Transparency   expressed in bytes should be converted to RGBA images\n",
            "  'to RGBA images')\n"
          ],
          "name": "stderr"
        },
        {
          "output_type": "stream",
          "text": [
            "9/9 [==============================] - 19s 2s/step - loss: 0.8121 - acc: 0.5278 - val_loss: 0.6937 - val_acc: 0.4688\n",
            "Epoch 2/30\n",
            "9/9 [==============================] - 12s 1s/step - loss: 0.6916 - acc: 0.5268 - val_loss: 0.6841 - val_acc: 0.5312\n",
            "Epoch 3/30\n",
            "9/9 [==============================] - 17s 2s/step - loss: 0.6686 - acc: 0.5938 - val_loss: 0.6463 - val_acc: 0.6979\n",
            "Epoch 4/30\n",
            "9/9 [==============================] - 13s 1s/step - loss: 0.6121 - acc: 0.6863 - val_loss: 0.5733 - val_acc: 0.7083\n",
            "Epoch 5/30\n",
            "9/9 [==============================] - 16s 2s/step - loss: 0.6218 - acc: 0.6539 - val_loss: 0.6082 - val_acc: 0.6042\n",
            "Epoch 6/30\n",
            "9/9 [==============================] - 13s 1s/step - loss: 0.5715 - acc: 0.7014 - val_loss: 0.5704 - val_acc: 0.7396\n",
            "Epoch 7/30\n",
            "9/9 [==============================] - 13s 1s/step - loss: 0.4929 - acc: 0.7542 - val_loss: 0.4940 - val_acc: 0.7083\n",
            "Epoch 8/30\n",
            "9/9 [==============================] - 14s 2s/step - loss: 0.5057 - acc: 0.7569 - val_loss: 0.5079 - val_acc: 0.7708\n",
            "Epoch 9/30\n",
            "9/9 [==============================] - 14s 2s/step - loss: 0.4449 - acc: 0.8021 - val_loss: 0.5070 - val_acc: 0.7292\n",
            "Epoch 10/30\n",
            "9/9 [==============================] - 13s 1s/step - loss: 0.4759 - acc: 0.7882 - val_loss: 0.5053 - val_acc: 0.7396\n",
            "Epoch 11/30\n",
            "9/9 [==============================] - 14s 2s/step - loss: 0.4125 - acc: 0.8366 - val_loss: 0.4873 - val_acc: 0.7396\n",
            "Epoch 12/30\n",
            "9/9 [==============================] - 14s 2s/step - loss: 0.3973 - acc: 0.8542 - val_loss: 0.6003 - val_acc: 0.7292\n",
            "Epoch 13/30\n",
            "9/9 [==============================] - 14s 2s/step - loss: 0.4215 - acc: 0.7812 - val_loss: 0.5044 - val_acc: 0.7396\n",
            "Epoch 14/30\n",
            "9/9 [==============================] - 14s 2s/step - loss: 0.3512 - acc: 0.8646 - val_loss: 0.5379 - val_acc: 0.7188\n",
            "Epoch 15/30\n",
            "9/9 [==============================] - 13s 1s/step - loss: 0.3387 - acc: 0.8403 - val_loss: 0.5887 - val_acc: 0.6979\n",
            "Epoch 16/30\n",
            "9/9 [==============================] - 14s 2s/step - loss: 0.2973 - acc: 0.8854 - val_loss: 0.5491 - val_acc: 0.7396\n",
            "Epoch 17/30\n",
            "9/9 [==============================] - 12s 1s/step - loss: 0.2803 - acc: 0.8834 - val_loss: 0.6843 - val_acc: 0.7188\n",
            "Epoch 18/30\n",
            "9/9 [==============================] - 14s 2s/step - loss: 0.2235 - acc: 0.8980 - val_loss: 0.6878 - val_acc: 0.6875\n",
            "Epoch 19/30\n",
            "9/9 [==============================] - 12s 1s/step - loss: 0.2762 - acc: 0.8819 - val_loss: 0.6307 - val_acc: 0.7188\n",
            "Epoch 20/30\n",
            "9/9 [==============================] - 13s 1s/step - loss: 0.1677 - acc: 0.9512 - val_loss: 0.6944 - val_acc: 0.7188\n",
            "Epoch 21/30\n",
            "9/9 [==============================] - 13s 1s/step - loss: 0.2044 - acc: 0.9201 - val_loss: 0.7075 - val_acc: 0.7292\n",
            "Epoch 22/30\n",
            "9/9 [==============================] - 16s 2s/step - loss: 0.1493 - acc: 0.9676 - val_loss: 0.7300 - val_acc: 0.7292\n",
            "Epoch 23/30\n",
            "9/9 [==============================] - 12s 1s/step - loss: 0.1415 - acc: 0.9549 - val_loss: 0.9551 - val_acc: 0.7188\n",
            "Epoch 24/30\n",
            "9/9 [==============================] - 16s 2s/step - loss: 0.0971 - acc: 0.9688 - val_loss: 0.8438 - val_acc: 0.6771\n",
            "Epoch 25/30\n",
            "9/9 [==============================] - 11s 1s/step - loss: 0.0949 - acc: 0.9641 - val_loss: 1.1220 - val_acc: 0.6667\n",
            "Epoch 26/30\n",
            "9/9 [==============================] - 14s 2s/step - loss: 0.0563 - acc: 0.9826 - val_loss: 1.0607 - val_acc: 0.7292\n",
            "Epoch 27/30\n",
            "9/9 [==============================] - 12s 1s/step - loss: 0.0949 - acc: 0.9618 - val_loss: 1.3250 - val_acc: 0.6458\n",
            "Epoch 28/30\n",
            "9/9 [==============================] - 14s 2s/step - loss: 0.0803 - acc: 0.9826 - val_loss: 1.0643 - val_acc: 0.7292\n",
            "Epoch 29/30\n",
            "9/9 [==============================] - 13s 1s/step - loss: 0.0547 - acc: 0.9826 - val_loss: 1.1351 - val_acc: 0.7292\n",
            "Epoch 30/30\n",
            "9/9 [==============================] - 11s 1s/step - loss: 0.0417 - acc: 0.9931 - val_loss: 1.2083 - val_acc: 0.7292\n"
          ],
          "name": "stdout"
        }
      ]
    },
    {
      "metadata": {
        "id": "xNJA9kA0Mkid",
        "colab_type": "text"
      },
      "cell_type": "markdown",
      "source": [
        "### 学習経過のグラフ化"
      ]
    },
    {
      "metadata": {
        "id": "_dgMQB5cMkie",
        "colab_type": "text"
      },
      "cell_type": "markdown",
      "source": [
        "下記のプログラムで、エポックごとの損失と正解率をグラフ化できます。  \n",
        "グラフから何が読み取れるでしょうか？"
      ]
    },
    {
      "metadata": {
        "scrolled": false,
        "id": "FxsAUbyhMkif",
        "colab_type": "code",
        "outputId": "978811e8-4689-4a7a-a070-daae692a157d",
        "colab": {
          "base_uri": "https://localhost:8080/",
          "height": 514
        }
      },
      "cell_type": "code",
      "source": [
        "import matplotlib.pyplot as plt\n",
        "%matplotlib inline\n",
        "\n",
        "acc = history.history['acc']\n",
        "val_acc = history.history['val_acc']\n",
        "loss = history.history['loss']\n",
        "val_loss = history.history['val_loss']\n",
        "\n",
        "epochs = range(len(acc))\n",
        "\n",
        "plt.plot(epochs, acc, label='Train Accuracy')\n",
        "plt.plot(epochs, val_acc, label='Validation Accuracy')\n",
        "plt.legend()\n",
        "plt.show()\n",
        "\n",
        "plt.plot(epochs, loss, label='Train Loss')\n",
        "plt.plot(epochs, val_loss, label='Validation Loss')\n",
        "plt.legend()\n",
        "plt.show()\n"
      ],
      "execution_count": 0,
      "outputs": [
        {
          "output_type": "display_data",
          "data": {
            "image/png": "iVBORw0KGgoAAAANSUhEUgAAAXMAAAD4CAYAAAAeugY9AAAABHNCSVQICAgIfAhkiAAAAAlwSFlz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\nQmCC\n",
            "text/plain": [
              "<Figure size 432x288 with 1 Axes>"
            ]
          },
          "metadata": {
            "tags": []
          }
        },
        {
          "output_type": "display_data",
          "data": {
            "image/png": "iVBORw0KGgoAAAANSUhEUgAAAXMAAAD4CAYAAAAeugY9AAAABHNCSVQICAgIfAhkiAAAAAlwSFlz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\nswZ4mJuZNcDD3MysAR7mZmYN+AYw3JNa0HPt7wAAAABJRU5ErkJggg==\n",
            "text/plain": [
              "<Figure size 432x288 with 1 Axes>"
            ]
          },
          "metadata": {
            "tags": []
          }
        }
      ]
    },
    {
      "metadata": {
        "id": "MjL8gPXEMkii",
        "colab_type": "text"
      },
      "cell_type": "markdown",
      "source": [
        "### モデルの評価"
      ]
    },
    {
      "metadata": {
        "id": "-UeYu0XvMkik",
        "colab_type": "code",
        "outputId": "5ac0b70b-4762-442d-99b4-8f29e9568bbe",
        "colab": {
          "base_uri": "https://localhost:8080/",
          "height": 35
        }
      },
      "cell_type": "code",
      "source": [
        "evaluation = model.evaluate_generator(test_generator, steps=test_steps)\n",
        "print(evaluation)"
      ],
      "execution_count": 0,
      "outputs": [
        {
          "output_type": "stream",
          "text": [
            "[0.9525312582651774, 0.75]\n"
          ],
          "name": "stdout"
        }
      ]
    },
    {
      "metadata": {
        "id": "crbeJRPURR4p",
        "colab_type": "text"
      },
      "cell_type": "markdown",
      "source": [
        "## ドロップアウトの導入"
      ]
    },
    {
      "metadata": {
        "id": "3oWfrzIfUYbw",
        "colab_type": "text"
      },
      "cell_type": "markdown",
      "source": [
        "### モデルの修正"
      ]
    },
    {
      "metadata": {
        "id": "3ccwOnHdRj1h",
        "colab_type": "text"
      },
      "cell_type": "markdown",
      "source": [
        "最初のモデルにDropout層を挿入してみましょう。"
      ]
    },
    {
      "metadata": {
        "id": "w0MBhh0jRs9S",
        "colab_type": "code",
        "colab": {}
      },
      "cell_type": "code",
      "source": [
        "model = keras.models.Sequential()\n",
        "\n",
        "model.add(keras.layers.Conv2D(32, (3, 3), strides=(1, 1), activation='relu', input_shape=(128, 128, 3)))\n",
        "model.add(keras.layers.MaxPooling2D((2, 2)))\n",
        "model.add(keras.layers.Conv2D(64, (3, 3), strides=(1, 1), activation='relu'))\n",
        "model.add(keras.layers.MaxPooling2D((2, 2)))\n",
        "model.add(keras.layers.Conv2D(128, (3, 3), strides=(1, 1), activation='relu'))\n",
        "model.add(keras.layers.MaxPooling2D((2, 2)))\n",
        "model.add(keras.layers.Flatten())\n",
        "model.add(keras.layers.Dense(128, activation='relu'))\n",
        "model.add(keras.layers.Dense(2, activation='softmax'))\n"
      ],
      "execution_count": 0,
      "outputs": []
    },
    {
      "metadata": {
        "colab_type": "text",
        "id": "wJ3_ETEOSJPw"
      },
      "cell_type": "markdown",
      "source": [
        "### モデル構造の表示"
      ]
    },
    {
      "metadata": {
        "scrolled": true,
        "colab_type": "code",
        "id": "xfgE2MLpSJPz",
        "colab": {}
      },
      "cell_type": "code",
      "source": [
        "model.summary()"
      ],
      "execution_count": 0,
      "outputs": []
    },
    {
      "metadata": {
        "colab_type": "text",
        "id": "pKVB4-ePSJP2"
      },
      "cell_type": "markdown",
      "source": [
        "### モデルのコンパイル"
      ]
    },
    {
      "metadata": {
        "colab_type": "text",
        "id": "jhFt8faoSJP4"
      },
      "cell_type": "markdown",
      "source": [
        "先ほどのモデルと同じ様にモデルをコンパイルします。"
      ]
    },
    {
      "metadata": {
        "colab_type": "code",
        "id": "IQ011zNtSJP8",
        "colab": {}
      },
      "cell_type": "code",
      "source": [
        "model.compile(loss='categorical_crossentropy', \n",
        "              optimizer='adam',\n",
        "              metrics=['acc'])"
      ],
      "execution_count": 0,
      "outputs": []
    },
    {
      "metadata": {
        "colab_type": "text",
        "id": "UeoiwGnsSJQB"
      },
      "cell_type": "markdown",
      "source": [
        "### モデルの訓練"
      ]
    },
    {
      "metadata": {
        "colab_type": "text",
        "id": "Du5ou_KVSJQC"
      },
      "cell_type": "markdown",
      "source": [
        "先ほどと同じ30エポック、モデルの訓練を行います。"
      ]
    },
    {
      "metadata": {
        "colab_type": "code",
        "id": "StnawXTXSJQC",
        "colab": {}
      },
      "cell_type": "code",
      "source": [
        "history = model.fit_generator(train_generator,\n",
        "                             epochs=50,\n",
        "                             steps_per_epoch=steps_per_epoch,\n",
        "                             validation_data=validation_generator,\n",
        "                             validation_steps=validation_steps)"
      ],
      "execution_count": 0,
      "outputs": []
    },
    {
      "metadata": {
        "colab_type": "text",
        "id": "2klwDWcdSJQG"
      },
      "cell_type": "markdown",
      "source": [
        "### 学習経過のグラフ化"
      ]
    },
    {
      "metadata": {
        "colab_type": "text",
        "id": "JkOqKCh5SJQG"
      },
      "cell_type": "markdown",
      "source": [
        "エポックごとの損失と正解率をグラフ化します。\n",
        "先程のグラフとどの様に違うでしょうか？"
      ]
    },
    {
      "metadata": {
        "scrolled": false,
        "colab_type": "code",
        "id": "YxCHjxRaSJQI",
        "colab": {}
      },
      "cell_type": "code",
      "source": [
        "import matplotlib.pyplot as plt\n",
        "%matplotlib inline\n",
        "\n",
        "acc = history.history['acc']\n",
        "val_acc = history.history['val_acc']\n",
        "loss = history.history['loss']\n",
        "val_loss = history.history['val_loss']\n",
        "\n",
        "epochs = range(len(acc))\n",
        "\n",
        "plt.plot(epochs, acc, label='Train Accuracy')\n",
        "plt.plot(epochs, val_acc, label='Validation Accuracy')\n",
        "plt.legend()\n",
        "plt.show()\n",
        "\n",
        "plt.plot(epochs, loss, label='Train Loss')\n",
        "plt.plot(epochs, val_loss, label='Validation Loss')\n",
        "plt.legend()\n",
        "plt.show()\n"
      ],
      "execution_count": 0,
      "outputs": []
    },
    {
      "metadata": {
        "id": "3yn-0nG7Mkio",
        "colab_type": "text"
      },
      "cell_type": "markdown",
      "source": [
        "### モデルの保存"
      ]
    },
    {
      "metadata": {
        "id": "hkfjtmU8Mkip",
        "colab_type": "code",
        "colab": {}
      },
      "cell_type": "code",
      "source": [
        "model.save('noodle_model_with_dropout.h5')"
      ],
      "execution_count": 0,
      "outputs": []
    },
    {
      "metadata": {
        "id": "Me8-RtGcUlP0",
        "colab_type": "text"
      },
      "cell_type": "markdown",
      "source": [
        "## パラメータ正則化の導入"
      ]
    },
    {
      "metadata": {
        "colab_type": "text",
        "id": "U9eQk2BcU0Aj"
      },
      "cell_type": "markdown",
      "source": [
        "### モデルの修正"
      ]
    },
    {
      "metadata": {
        "colab_type": "text",
        "id": "ViNrWk-EU0Ak"
      },
      "cell_type": "markdown",
      "source": [
        "最初のモデルにパラメータ正則化の導入をしてみましょう。"
      ]
    },
    {
      "metadata": {
        "colab_type": "code",
        "id": "pt1F-L_WU0Am",
        "colab": {}
      },
      "cell_type": "code",
      "source": [
        "model = keras.models.Sequential()\n",
        "\n",
        "model.add(keras.layers.Conv2D(32, (3, 3), \n",
        "                              strides=(1, 1), \n",
        "                              activation='relu', \n",
        "                              input_shape=(128, 128, 3)))\n",
        "model.add(keras.layers.MaxPooling2D((2, 2)))\n",
        "model.add(keras.layers.Conv2D(64, (3, 3), \n",
        "                              strides=(1, 1), \n",
        "                              activation='relu'))\n",
        "model.add(keras.layers.MaxPooling2D((2, 2)))\n",
        "model.add(keras.layers.Conv2D(128, (3, 3), \n",
        "                              strides=(1, 1), \n",
        "                              activation='relu'))\n",
        "model.add(keras.layers.MaxPooling2D((2, 2)))\n",
        "model.add(keras.layers.Flatten())\n",
        "model.add(keras.layers.Dense(128, \n",
        "                             activation='relu'))\n",
        "model.add(keras.layers.Dense(2, activation='softmax'))\n"
      ],
      "execution_count": 0,
      "outputs": []
    },
    {
      "metadata": {
        "colab_type": "text",
        "id": "6Le9hYB3U0Aq"
      },
      "cell_type": "markdown",
      "source": [
        "### モデル構造の表示"
      ]
    },
    {
      "metadata": {
        "scrolled": true,
        "colab_type": "code",
        "id": "bmRjOR8NU0Aq",
        "colab": {}
      },
      "cell_type": "code",
      "source": [
        "model.summary()"
      ],
      "execution_count": 0,
      "outputs": []
    },
    {
      "metadata": {
        "colab_type": "text",
        "id": "ecvTMSTmU0Au"
      },
      "cell_type": "markdown",
      "source": [
        "### モデルのコンパイル"
      ]
    },
    {
      "metadata": {
        "colab_type": "text",
        "id": "zslfGAQHU0Ax"
      },
      "cell_type": "markdown",
      "source": [
        "先ほどのモデルと同じ様にモデルをコンパイルします。"
      ]
    },
    {
      "metadata": {
        "colab_type": "code",
        "id": "Vl9O3SmSU0Ay",
        "colab": {}
      },
      "cell_type": "code",
      "source": [
        "model.compile(loss='categorical_crossentropy', \n",
        "              optimizer='adam',\n",
        "              metrics=['acc'])"
      ],
      "execution_count": 0,
      "outputs": []
    },
    {
      "metadata": {
        "colab_type": "text",
        "id": "Sk_N9r8bU0A1"
      },
      "cell_type": "markdown",
      "source": [
        "### モデルの訓練"
      ]
    },
    {
      "metadata": {
        "colab_type": "text",
        "id": "yL-txeEOU0A2"
      },
      "cell_type": "markdown",
      "source": [
        "先ほどと同じ50エポック、モデルの訓練を行います。"
      ]
    },
    {
      "metadata": {
        "colab_type": "code",
        "id": "ot7LoiZlU0A4",
        "colab": {}
      },
      "cell_type": "code",
      "source": [
        "history = model.fit_generator(train_generator,\n",
        "                             epochs=50,\n",
        "                             steps_per_epoch=steps_per_epoch,\n",
        "                             validation_data=validation_generator,\n",
        "                             validation_steps=validation_steps)"
      ],
      "execution_count": 0,
      "outputs": []
    },
    {
      "metadata": {
        "colab_type": "text",
        "id": "f4TyNYQUU0A-"
      },
      "cell_type": "markdown",
      "source": [
        "### 学習経過のグラフ化"
      ]
    },
    {
      "metadata": {
        "colab_type": "text",
        "id": "Ec9mEbE_U0BA"
      },
      "cell_type": "markdown",
      "source": [
        "エポックごとの損失と正解率をグラフ化します。\n",
        "先程のグラフとどの様に違うでしょうか？"
      ]
    },
    {
      "metadata": {
        "scrolled": false,
        "colab_type": "code",
        "id": "O7LBzFGdU0BB",
        "colab": {}
      },
      "cell_type": "code",
      "source": [
        "import matplotlib.pyplot as plt\n",
        "%matplotlib inline\n",
        "\n",
        "acc = history.history['acc']\n",
        "val_acc = history.history['val_acc']\n",
        "loss = history.history['loss']\n",
        "val_loss = history.history['val_loss']\n",
        "\n",
        "epochs = range(len(acc))\n",
        "\n",
        "plt.plot(epochs, acc, label='Train Accuracy')\n",
        "plt.plot(epochs, val_acc, label='Validation Accuracy')\n",
        "plt.legend()\n",
        "plt.show()\n",
        "\n",
        "plt.plot(epochs, loss, label='Train Loss')\n",
        "plt.plot(epochs, val_loss, label='Validation Loss')\n",
        "plt.legend()\n",
        "plt.show()\n"
      ],
      "execution_count": 0,
      "outputs": []
    },
    {
      "metadata": {
        "colab_type": "text",
        "id": "RvojAOcnU0BG"
      },
      "cell_type": "markdown",
      "source": [
        "### モデルの保存"
      ]
    },
    {
      "metadata": {
        "colab_type": "code",
        "id": "Gqjc73O2U0BI",
        "colab": {}
      },
      "cell_type": "code",
      "source": [
        "model.save('noodle_model_with_ regularizer.h5')"
      ],
      "execution_count": 0,
      "outputs": []
    },
    {
      "metadata": {
        "id": "Dtoot47cMkiu",
        "colab_type": "text"
      },
      "cell_type": "markdown",
      "source": [
        "## 保存済みモデルの読み込み"
      ]
    },
    {
      "metadata": {
        "id": "S0PS2DEtVqZw",
        "colab_type": "text"
      },
      "cell_type": "markdown",
      "source": [
        "最も性能の良かったモデルを読み込みます。"
      ]
    },
    {
      "metadata": {
        "id": "eNQD8Z96Mkiw",
        "colab_type": "code",
        "colab": {}
      },
      "cell_type": "code",
      "source": [
        "model = keras.models.load_model('')"
      ],
      "execution_count": 0,
      "outputs": []
    },
    {
      "metadata": {
        "id": "G1HpYmCVMki3",
        "colab_type": "text"
      },
      "cell_type": "markdown",
      "source": [
        "## モデルによる予測"
      ]
    },
    {
      "metadata": {
        "id": "ewrlxxAZMki4",
        "colab_type": "text"
      },
      "cell_type": "markdown",
      "source": [
        "下記のプログラムで、学習したモデルを使ってテスト用データの分類（予測）を行うことができます。  \n",
        "予測結果がどのような形式なのかを確認してください。"
      ]
    },
    {
      "metadata": {
        "id": "Jn9HHXysMki5",
        "colab_type": "code",
        "colab": {}
      },
      "cell_type": "code",
      "source": [
        "predictions = model.predict_generator(test_generator, steps=test_steps)\n",
        "\n",
        "print(predictions)"
      ],
      "execution_count": 0,
      "outputs": []
    },
    {
      "metadata": {
        "id": "og6H4zCTMki8",
        "colab_type": "text"
      },
      "cell_type": "markdown",
      "source": [
        "## モデルの予測結果を見てみる"
      ]
    },
    {
      "metadata": {
        "id": "z8mw0aq7Mki-",
        "colab_type": "text"
      },
      "cell_type": "markdown",
      "source": [
        "次のプログラムを実行すると、テスト用データの１バッチ分についてモデルの予測値と正解を画像つきで確認できます。  \n",
        "どのような結果になったかを確認してください。"
      ]
    },
    {
      "metadata": {
        "id": "I3gm5I2LMki_",
        "colab_type": "code",
        "colab": {}
      },
      "cell_type": "code",
      "source": [
        "import numpy as np\n",
        "import matplotlib.pyplot as plt\n",
        "%matplotlib inline\n",
        "\n",
        "code_to_class = {0: 'ラーメン', 1: 'うどん'}\n",
        "\n",
        "x, y = next(test_generator)\n",
        "y_true = np.argmax(y, axis=1)\n",
        "y_prob = model.predict_on_batch(x)\n",
        "y_pred = np.argmax(y_prob, axis=1)\n",
        "\n",
        "for i in range(len(x)):\n",
        "    plt.imshow(x[i])\n",
        "    plt.show()\n",
        "    print('推定：', code_to_class[y_pred[i]])\n",
        "    print('正解：', code_to_class[y_true[i]])"
      ],
      "execution_count": 0,
      "outputs": []
    },
    {
      "metadata": {
        "id": "xtLMWNwVMkjC",
        "colab_type": "code",
        "colab": {}
      },
      "cell_type": "code",
      "source": [
        ""
      ],
      "execution_count": 0,
      "outputs": []
    }
  ]
}
>>>>>>> 2efc41746212ce6ecb91a332f4321d22339163fb
